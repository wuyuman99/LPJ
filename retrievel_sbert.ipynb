{
 "cells": [
  {
   "cell_type": "code",
   "execution_count": 1,
   "metadata": {},
   "outputs": [
    {
     "name": "stderr",
     "output_type": "stream",
     "text": [
      "/home/wuyuman/anaconda3/envs/chatglm/lib/python3.9/site-packages/tqdm/auto.py:21: TqdmWarning: IProgress not found. Please update jupyter and ipywidgets. See https://ipywidgets.readthedocs.io/en/stable/user_install.html\n",
      "  from .autonotebook import tqdm as notebook_tqdm\n"
     ]
    }
   ],
   "source": [
    "from sentence_transformers import SentenceTransformer\n",
    "import scipy\n",
    "from sentence_transformers import SentenceTransformer, util\n",
    "import json\n",
    "import pandas as pd\n",
    "import re\n",
    "from tqdm import tqdm"
   ]
  },
  {
   "cell_type": "code",
   "execution_count": 59,
   "metadata": {},
   "outputs": [],
   "source": [
    "# model = SentenceTransformer('paraphrase-multilingual-MiniLM-L12-v2')\n",
    "model = SentenceTransformer('distiluse-base-multilingual-cased-v1')"
   ]
  },
  {
   "cell_type": "code",
   "execution_count": 6,
   "metadata": {},
   "outputs": [],
   "source": [
    "\n",
    "f = open(\"/home/wuyuman/Chatglm/data/CEs/elements.json\",encoding='utf-8')\n",
    "content = f.read()\n",
    "elements = json.loads(content)\n",
    "f = open(\"/home/wuyuman/Chatglm/data/articles/article_all.json\",encoding='utf-8')\n",
    "content = f.read()\n",
    "articles = json.loads(content)\n",
    "data=pd.read_csv('/home/wuyuman/Chatglm/test_data_all.csv')\n"
   ]
  },
  {
   "cell_type": "code",
   "execution_count": 46,
   "metadata": {},
   "outputs": [],
   "source": [
    "all_data=pd.read_csv('/home/wuyuman/Chatglm/data/predict_crime/all_data.csv')\n",
    "all_data=all_data[all_data['crime_num']==1]\n",
    "all_data['accusation']=[re.sub('[][]', '', i)+'罪' for i in all_data['accusation']]\n",
    "accusation_list=all_data['accusation'].drop_duplicates()\n",
    "\n",
    "accusation_selected=[]\n",
    "for accusation in accusation_list.tolist():\n",
    "    if accusation in articles.keys() and accusation in [i+'罪' for i in elements.keys()]:\n",
    "        accusation_selected.append(accusation)\n",
    "\n",
    "all_data=all_data[all_data['accusation'].isin(accusation_selected)]\n",
    "all_data=all_data[['fact', 'accusation', 'death_penalty', 'imprisonment','life_imprisonment', 'crime_num', 'predict_result']]\n",
    "# all_data.to_csv('fact_selected.csv')"
   ]
  },
  {
   "cell_type": "code",
   "execution_count": 47,
   "metadata": {},
   "outputs": [],
   "source": [
    "article_selected={}\n",
    "for accusation in articles:\n",
    "    if accusation in accusation_selected:\n",
    "        article_selected[accusation]=articles[accusation]\n",
    "\n",
    "# with open(\"/home/wuyuman/Chatglm/article_selected.json\",'w',encoding='utf-8') as f:\n",
    "#         json.dump(article_selected, f,ensure_ascii=False)"
   ]
  },
  {
   "cell_type": "code",
   "execution_count": 5,
   "metadata": {},
   "outputs": [],
   "source": [
    "def retrivel(fact_data,model,article_selected,elements):\n",
    "    data=fact_data.copy()\n",
    "    article_retrievel_top10=[]\n",
    "    article_retrievel_top5=[]\n",
    "    article_retrievel_top3=[]\n",
    "    crime_retrievel_top10=[]\n",
    "    crime_retrievel_top5=[]\n",
    "    crime_retrievel_top3=[]\n",
    "    definition_and_article_retrievel_top10=[]\n",
    "    definition_and_article_retrievel_top5=[]\n",
    "    definition_and_article_retrievel_top3=[]\n",
    "\n",
    "    article_content=[]\n",
    "    crime_definition=[]\n",
    "    definition_and_article=[]\n",
    "    crimes=[]\n",
    "\n",
    "    for accusation in article_selected:\n",
    "        article_content.append(accusation+':'+article_selected[accusation]['内容'])\n",
    "        crime_definition.append(elements[accusation[:-1]][0])\n",
    "        definition_and_article.append(elements[accusation[:-1]][0]+article_selected[accusation]['内容'])\n",
    "        crimes.append(accusation)\n",
    "    article_representation=model.encode(article_content)\n",
    "    crime_definition_representation=model.encode(crime_definition)\n",
    "    definition_and_article_representation=model.encode(definition_and_article)\n",
    "\n",
    "    for i in tqdm(range(len(data))):\n",
    "        fact_representation=model.encode(all_data['fact'].iloc[i])\n",
    "\n",
    "        correlation1={}\n",
    "        correlation2={}\n",
    "        correlation3={}\n",
    "        for j in range(len(article_content)):\n",
    "            correlation1[crimes[j]]= util.cos_sim(fact_representation,article_representation[j])\n",
    "            correlation2[crimes[j]]= util.cos_sim(fact_representation,crime_definition_representation[j])\n",
    "            correlation3[crimes[j]]= util.cos_sim(fact_representation,definition_and_article_representation[j])\n",
    "        article_retrievel_top10.append(sorted(correlation1.items(),key = lambda correlation1:correlation1[1],reverse=True)[:10])\n",
    "        article_retrievel_top5.append(sorted(correlation1.items(),key = lambda correlation1:correlation1[1],reverse=True)[:5])\n",
    "        article_retrievel_top3.append(sorted(correlation1.items(),key = lambda correlation1:correlation1[1],reverse=True)[:3])\n",
    "        crime_retrievel_top10.append(sorted(correlation2.items(),key = lambda correlation2:correlation2[1],reverse=True)[:10])\n",
    "        crime_retrievel_top5.append(sorted(correlation2.items(),key = lambda correlation2:correlation2[1],reverse=True)[:5])\n",
    "        crime_retrievel_top3.append(sorted(correlation2.items(),key = lambda correlation2:correlation2[1],reverse=True)[:3])\n",
    "        definition_and_article_retrievel_top10.append(sorted(correlation3.items(),key = lambda correlation3:correlation3[1],reverse=True)[:10])\n",
    "        definition_and_article_retrievel_top5.append(sorted(correlation3.items(),key = lambda correlation3:correlation3[1],reverse=True)[:5])\n",
    "        definition_and_article_retrievel_top3.append(sorted(correlation3.items(),key = lambda correlation3:correlation3[1],reverse=True)[:3])\n",
    "\n",
    "    data['top_5_article']=[[i[j][0] for j in range(len(i))] for i in article_retrievel_top5]\n",
    "    data['top_3_article']=[[i[j][0] for j in range(len(i))] for i in article_retrievel_top3]\n",
    "    data['top_10_article']=[[i[j][0] for j in range(len(i))] for i in article_retrievel_top10]\n",
    "    data['top_5_crime']=[[i[j][0] for j in range(len(i))] for i in crime_retrievel_top5]\n",
    "    data['top_3_crime']=[[i[j][0] for j in range(len(i))] for i in crime_retrievel_top3]\n",
    "    data['top_10_crime']=[[i[j][0] for j in range(len(i))] for i in crime_retrievel_top10]\n",
    "    data['top_5_definition_and_article']=[[i[j][0] for j in range(len(i))] for i in definition_and_article_retrievel_top5]\n",
    "    data['top_3_definition_and_article']=[[i[j][0] for j in range(len(i))] for i in definition_and_article_retrievel_top3]\n",
    "    data['top_10_definition_and_article']=[[i[j][0] for j in range(len(i))] for i in definition_and_article_retrievel_top10]\n",
    "    return data\n",
    "            \n",
    "    "
   ]
  },
  {
   "cell_type": "code",
   "execution_count": 6,
   "metadata": {},
   "outputs": [
    {
     "name": "stderr",
     "output_type": "stream",
     "text": [
      "No sentence-transformers model found with name /home/wuyuman/hfl/chinese-roberta-wwm-ext. Creating a new one with MEAN pooling.\n",
      "Some weights of the model checkpoint at /home/wuyuman/hfl/chinese-roberta-wwm-ext were not used when initializing BertModel: ['cls.predictions.transform.dense.bias', 'cls.predictions.transform.dense.weight', 'cls.predictions.decoder.weight', 'cls.predictions.transform.LayerNorm.bias', 'cls.seq_relationship.bias', 'cls.predictions.bias', 'cls.seq_relationship.weight', 'cls.predictions.transform.LayerNorm.weight']\n",
      "- This IS expected if you are initializing BertModel from the checkpoint of a model trained on another task or with another architecture (e.g. initializing a BertForSequenceClassification model from a BertForPreTraining model).\n",
      "- This IS NOT expected if you are initializing BertModel from the checkpoint of a model that you expect to be exactly identical (initializing a BertForSequenceClassification model from a BertForSequenceClassification model).\n"
     ]
    }
   ],
   "source": [
    "model1 = SentenceTransformer('distiluse-base-multilingual-cased-v1')\n",
    "model2 = SentenceTransformer('paraphrase-multilingual-MiniLM-L12-v2')\n",
    "model3=SentenceTransformer('/home/wuyuman/hfl/chinese-roberta-wwm-ext')"
   ]
  },
  {
   "cell_type": "code",
   "execution_count": 7,
   "metadata": {},
   "outputs": [
    {
     "name": "stderr",
     "output_type": "stream",
     "text": [
      "100%|██████████| 13994/13994 [06:04<00:00, 38.36it/s]\n",
      "100%|██████████| 13994/13994 [06:31<00:00, 35.76it/s]\n",
      "100%|██████████| 13994/13994 [07:04<00:00, 32.99it/s]\n"
     ]
    }
   ],
   "source": [
    "data1=retrivel(fact_data=all_data,model=model1,article_selected=article_selected,elements=elements)\n",
    "data2=retrivel(fact_data=all_data,model=model2,article_selected=article_selected,elements=elements)\n",
    "data3=retrivel(fact_data=all_data,model=model3,article_selected=article_selected,elements=elements)"
   ]
  },
  {
   "cell_type": "code",
   "execution_count": 2,
   "metadata": {},
   "outputs": [],
   "source": [
    "data1=pd.read_csv('/home/wuyuman/Chatglm/data/retrivel_data/sbert_retrivel1.csv')"
   ]
  },
  {
   "cell_type": "code",
   "execution_count": 4,
   "metadata": {},
   "outputs": [
    {
     "data": {
      "text/plain": [
       "accusation                                                                  交通肇事罪\n",
       "top_5_article                   ['交通肇事罪', '危险驾驶罪', '聚众扰乱公共场所秩序、交通秩序罪', '重大劳动安全...\n",
       "top_5_crime                     ['交通肇事罪', '危险驾驶罪', '聚众扰乱公共场所秩序、交通秩序罪', '重大责任事故...\n",
       "top_5_definition_and_article    ['交通肇事罪', '危险驾驶罪', '重大责任事故罪', '重大劳动安全事故罪', '聚众...\n",
       "Name: 3000, dtype: object"
      ]
     },
     "execution_count": 4,
     "metadata": {},
     "output_type": "execute_result"
    }
   ],
   "source": [
    "data1[['accusation','top_5_article','top_5_crime','top_5_definition_and_article']].iloc[3000]"
   ]
  },
  {
   "cell_type": "code",
   "execution_count": 9,
   "metadata": {},
   "outputs": [
    {
     "data": {
      "text/html": [
       "<div>\n",
       "<style scoped>\n",
       "    .dataframe tbody tr th:only-of-type {\n",
       "        vertical-align: middle;\n",
       "    }\n",
       "\n",
       "    .dataframe tbody tr th {\n",
       "        vertical-align: top;\n",
       "    }\n",
       "\n",
       "    .dataframe thead th {\n",
       "        text-align: right;\n",
       "    }\n",
       "</style>\n",
       "<table border=\"1\" class=\"dataframe\">\n",
       "  <thead>\n",
       "    <tr style=\"text-align: right;\">\n",
       "      <th></th>\n",
       "      <th>accusation</th>\n",
       "      <th>top_5_article</th>\n",
       "      <th>top_5_crime</th>\n",
       "      <th>top_5_definition_and_article</th>\n",
       "    </tr>\n",
       "  </thead>\n",
       "  <tbody>\n",
       "    <tr>\n",
       "      <th>0</th>\n",
       "      <td>盗窃罪</td>\n",
       "      <td>[故意毁坏财物罪, 抢夺罪, 持有、使用假币罪, 出售、购买、运输假币罪, 伪造、变造金融票证罪]</td>\n",
       "      <td>[抢夺罪, 集资诈骗罪, 单位行贿罪, 诬告陷害罪, 合同诈骗罪]</td>\n",
       "      <td>[抢夺罪, 票据诈骗罪, 集资诈骗罪, 持有、使用假币罪, 出售、购买、运输假币罪]</td>\n",
       "    </tr>\n",
       "    <tr>\n",
       "      <th>1</th>\n",
       "      <td>盗窃罪</td>\n",
       "      <td>[伪证罪, 诬告陷害罪, 伪造、变造金融票证罪, 非法处置查封、扣押、冻结的财产罪, 票据诈骗罪]</td>\n",
       "      <td>[集资诈骗罪, 票据诈骗罪, 合同诈骗罪, 诬告陷害罪, 职务侵占罪]</td>\n",
       "      <td>[诬告陷害罪, 伪证罪, 票据诈骗罪, 出售、购买、运输假币罪, 持有、使用假币罪]</td>\n",
       "    </tr>\n",
       "    <tr>\n",
       "      <th>2</th>\n",
       "      <td>盗窃罪</td>\n",
       "      <td>[诬告陷害罪, 伪证罪, 非法侵入住宅罪, 编造、故意传播虚假恐怖信息罪, 非法处置查封、扣...</td>\n",
       "      <td>[诬告陷害罪, 集资诈骗罪, 票据诈骗罪, 保险诈骗罪, 抢夺罪]</td>\n",
       "      <td>[诬告陷害罪, 伪证罪, 出售、购买、运输假币罪, 抢夺罪, 持有、使用假币罪]</td>\n",
       "    </tr>\n",
       "    <tr>\n",
       "      <th>3</th>\n",
       "      <td>盗窃罪</td>\n",
       "      <td>[非法处置查封、扣押、冻结的财产罪, 伪造公司、企业、事业单位、人民团体印章罪, 出售、购买...</td>\n",
       "      <td>[集资诈骗罪, 票据诈骗罪, 销售假冒注册商标的商品罪, 抢夺罪, 保险诈骗罪]</td>\n",
       "      <td>[抢夺罪, 出售、购买、运输假币罪, 盗窃罪, 掩饰、隐瞒犯罪所得、犯罪所得收益罪, 诬告陷害罪]</td>\n",
       "    </tr>\n",
       "    <tr>\n",
       "      <th>4</th>\n",
       "      <td>盗窃罪</td>\n",
       "      <td>[非法处置查封、扣押、冻结的财产罪, 出售、购买、运输假币罪, 持有、使用假币罪, 非法出售...</td>\n",
       "      <td>[集资诈骗罪, 合同诈骗罪, 保险诈骗罪, 票据诈骗罪, 抢夺罪]</td>\n",
       "      <td>[出售、购买、运输假币罪, 抢夺罪, 持有、使用假币罪, 非法出售发票罪, 非法处置查封、扣...</td>\n",
       "    </tr>\n",
       "    <tr>\n",
       "      <th>...</th>\n",
       "      <td>...</td>\n",
       "      <td>...</td>\n",
       "      <td>...</td>\n",
       "      <td>...</td>\n",
       "    </tr>\n",
       "    <tr>\n",
       "      <th>17123</th>\n",
       "      <td>强迫交易罪</td>\n",
       "      <td>[非法处置查封、扣押、冻结的财产罪, 非法转让、倒卖土地使用权罪, 销售假冒注册商标的商品罪...</td>\n",
       "      <td>[销售假冒注册商标的商品罪, 集资诈骗罪, 合同诈骗罪, 票据诈骗罪, 保险诈骗罪]</td>\n",
       "      <td>[非法转让、倒卖土地使用权罪, 非法占用农用地罪, 非法处置查封、扣押、冻结的财产罪, 编造...</td>\n",
       "    </tr>\n",
       "    <tr>\n",
       "      <th>17127</th>\n",
       "      <td>妨害公务罪</td>\n",
       "      <td>[诬告陷害罪, 帮助犯罪分子逃避处罚罪, 伪证罪, 招摇撞骗罪, 编造、故意传播虚假恐怖信息罪]</td>\n",
       "      <td>[职务侵占罪, 冒充军人招摇撞骗罪, 诬告陷害罪, 票据诈骗罪, 对非国家工作人员行贿罪]</td>\n",
       "      <td>[诬告陷害罪, 帮助犯罪分子逃避处罚罪, 伪证罪, 拒不执行判决、裁定罪, 玩忽职守罪]</td>\n",
       "    </tr>\n",
       "    <tr>\n",
       "      <th>17128</th>\n",
       "      <td>掩饰、隐瞒犯罪所得、犯罪所得收益罪</td>\n",
       "      <td>[非法出售发票罪, 生产、销售伪劣产品罪, 出售、购买、运输假币罪, 虚开增值税专用发票、用...</td>\n",
       "      <td>[集资诈骗罪, 保险诈骗罪, 销售假冒注册商标的商品罪, 票据诈骗罪, 单位行贿罪]</td>\n",
       "      <td>[非法出售发票罪, 出售、购买、运输假币罪, 非法收购、运输盗伐、滥伐的林木罪, 保险诈骗罪...</td>\n",
       "    </tr>\n",
       "    <tr>\n",
       "      <th>17129</th>\n",
       "      <td>窝藏、包庇罪</td>\n",
       "      <td>[过失致人重伤罪, 拒不执行判决、裁定罪, 拐骗儿童罪, 招摇撞骗罪, 非法处置查封、扣押、...</td>\n",
       "      <td>[职务侵占罪, 票据诈骗罪, 集资诈骗罪, 单位行贿罪, 合同诈骗罪]</td>\n",
       "      <td>[故意杀人罪, 拒不执行判决、裁定罪, 故意伤害罪, 过失致人重伤罪, 拐骗儿童罪]</td>\n",
       "    </tr>\n",
       "    <tr>\n",
       "      <th>17130</th>\n",
       "      <td>重大责任事故罪</td>\n",
       "      <td>[重大劳动安全事故罪, 爆炸罪, 投放危险物质罪, 重大责任事故罪, 破坏生产经营罪]</td>\n",
       "      <td>[爆炸罪, 破坏易燃易爆设备罪, 重大劳动安全事故罪, 重大责任事故罪, 破坏生产经营罪]</td>\n",
       "      <td>[爆炸罪, 投放危险物质罪, 重大劳动安全事故罪, 破坏生产经营罪, 重大责任事故罪]</td>\n",
       "    </tr>\n",
       "  </tbody>\n",
       "</table>\n",
       "<p>13994 rows × 4 columns</p>\n",
       "</div>"
      ],
      "text/plain": [
       "              accusation                                      top_5_article  \\\n",
       "0                    盗窃罪  [故意毁坏财物罪, 抢夺罪, 持有、使用假币罪, 出售、购买、运输假币罪, 伪造、变造金融票证罪]   \n",
       "1                    盗窃罪  [伪证罪, 诬告陷害罪, 伪造、变造金融票证罪, 非法处置查封、扣押、冻结的财产罪, 票据诈骗罪]   \n",
       "2                    盗窃罪  [诬告陷害罪, 伪证罪, 非法侵入住宅罪, 编造、故意传播虚假恐怖信息罪, 非法处置查封、扣...   \n",
       "3                    盗窃罪  [非法处置查封、扣押、冻结的财产罪, 伪造公司、企业、事业单位、人民团体印章罪, 出售、购买...   \n",
       "4                    盗窃罪  [非法处置查封、扣押、冻结的财产罪, 出售、购买、运输假币罪, 持有、使用假币罪, 非法出售...   \n",
       "...                  ...                                                ...   \n",
       "17123              强迫交易罪  [非法处置查封、扣押、冻结的财产罪, 非法转让、倒卖土地使用权罪, 销售假冒注册商标的商品罪...   \n",
       "17127              妨害公务罪   [诬告陷害罪, 帮助犯罪分子逃避处罚罪, 伪证罪, 招摇撞骗罪, 编造、故意传播虚假恐怖信息罪]   \n",
       "17128  掩饰、隐瞒犯罪所得、犯罪所得收益罪  [非法出售发票罪, 生产、销售伪劣产品罪, 出售、购买、运输假币罪, 虚开增值税专用发票、用...   \n",
       "17129             窝藏、包庇罪  [过失致人重伤罪, 拒不执行判决、裁定罪, 拐骗儿童罪, 招摇撞骗罪, 非法处置查封、扣押、...   \n",
       "17130            重大责任事故罪        [重大劳动安全事故罪, 爆炸罪, 投放危险物质罪, 重大责任事故罪, 破坏生产经营罪]   \n",
       "\n",
       "                                         top_5_crime  \\\n",
       "0                  [抢夺罪, 集资诈骗罪, 单位行贿罪, 诬告陷害罪, 合同诈骗罪]   \n",
       "1                [集资诈骗罪, 票据诈骗罪, 合同诈骗罪, 诬告陷害罪, 职务侵占罪]   \n",
       "2                  [诬告陷害罪, 集资诈骗罪, 票据诈骗罪, 保险诈骗罪, 抢夺罪]   \n",
       "3           [集资诈骗罪, 票据诈骗罪, 销售假冒注册商标的商品罪, 抢夺罪, 保险诈骗罪]   \n",
       "4                  [集资诈骗罪, 合同诈骗罪, 保险诈骗罪, 票据诈骗罪, 抢夺罪]   \n",
       "...                                              ...   \n",
       "17123     [销售假冒注册商标的商品罪, 集资诈骗罪, 合同诈骗罪, 票据诈骗罪, 保险诈骗罪]   \n",
       "17127  [职务侵占罪, 冒充军人招摇撞骗罪, 诬告陷害罪, 票据诈骗罪, 对非国家工作人员行贿罪]   \n",
       "17128     [集资诈骗罪, 保险诈骗罪, 销售假冒注册商标的商品罪, 票据诈骗罪, 单位行贿罪]   \n",
       "17129            [职务侵占罪, 票据诈骗罪, 集资诈骗罪, 单位行贿罪, 合同诈骗罪]   \n",
       "17130  [爆炸罪, 破坏易燃易爆设备罪, 重大劳动安全事故罪, 重大责任事故罪, 破坏生产经营罪]   \n",
       "\n",
       "                            top_5_definition_and_article  \n",
       "0             [抢夺罪, 票据诈骗罪, 集资诈骗罪, 持有、使用假币罪, 出售、购买、运输假币罪]  \n",
       "1             [诬告陷害罪, 伪证罪, 票据诈骗罪, 出售、购买、运输假币罪, 持有、使用假币罪]  \n",
       "2               [诬告陷害罪, 伪证罪, 出售、购买、运输假币罪, 抢夺罪, 持有、使用假币罪]  \n",
       "3      [抢夺罪, 出售、购买、运输假币罪, 盗窃罪, 掩饰、隐瞒犯罪所得、犯罪所得收益罪, 诬告陷害罪]  \n",
       "4      [出售、购买、运输假币罪, 抢夺罪, 持有、使用假币罪, 非法出售发票罪, 非法处置查封、扣...  \n",
       "...                                                  ...  \n",
       "17123  [非法转让、倒卖土地使用权罪, 非法占用农用地罪, 非法处置查封、扣押、冻结的财产罪, 编造...  \n",
       "17127       [诬告陷害罪, 帮助犯罪分子逃避处罚罪, 伪证罪, 拒不执行判决、裁定罪, 玩忽职守罪]  \n",
       "17128  [非法出售发票罪, 出售、购买、运输假币罪, 非法收购、运输盗伐、滥伐的林木罪, 保险诈骗罪...  \n",
       "17129         [故意杀人罪, 拒不执行判决、裁定罪, 故意伤害罪, 过失致人重伤罪, 拐骗儿童罪]  \n",
       "17130        [爆炸罪, 投放危险物质罪, 重大劳动安全事故罪, 破坏生产经营罪, 重大责任事故罪]  \n",
       "\n",
       "[13994 rows x 4 columns]"
      ]
     },
     "execution_count": 9,
     "metadata": {},
     "output_type": "execute_result"
    }
   ],
   "source": [
    "data2[['accusation','top_5_article','top_5_crime','top_5_definition_and_article']]"
   ]
  },
  {
   "cell_type": "code",
   "execution_count": 10,
   "metadata": {},
   "outputs": [
    {
     "data": {
      "text/html": [
       "<div>\n",
       "<style scoped>\n",
       "    .dataframe tbody tr th:only-of-type {\n",
       "        vertical-align: middle;\n",
       "    }\n",
       "\n",
       "    .dataframe tbody tr th {\n",
       "        vertical-align: top;\n",
       "    }\n",
       "\n",
       "    .dataframe thead th {\n",
       "        text-align: right;\n",
       "    }\n",
       "</style>\n",
       "<table border=\"1\" class=\"dataframe\">\n",
       "  <thead>\n",
       "    <tr style=\"text-align: right;\">\n",
       "      <th></th>\n",
       "      <th>accusation</th>\n",
       "      <th>top_5_article</th>\n",
       "      <th>top_5_crime</th>\n",
       "      <th>top_5_definition_and_article</th>\n",
       "    </tr>\n",
       "  </thead>\n",
       "  <tbody>\n",
       "    <tr>\n",
       "      <th>0</th>\n",
       "      <td>盗窃罪</td>\n",
       "      <td>[对非国家工作人员行贿罪, 集资诈骗罪, 非法吸收公众存款罪, 绑架罪, 单位行贿罪]</td>\n",
       "      <td>[故意杀人罪, 诬告陷害罪, 故意毁坏财物罪, 侵犯著作权罪, 交通肇事罪]</td>\n",
       "      <td>[故意杀人罪, 对非国家工作人员行贿罪, 集资诈骗罪, 诬告陷害罪, 持有伪造的发票罪]</td>\n",
       "    </tr>\n",
       "    <tr>\n",
       "      <th>1</th>\n",
       "      <td>盗窃罪</td>\n",
       "      <td>[伪证罪, 非法拘禁罪, 侵犯著作权罪, 拒不支付劳动报酬罪, 票据诈骗罪]</td>\n",
       "      <td>[伪证罪, 掩饰、隐瞒犯罪所得、犯罪所得收益罪, 帮助犯罪分子逃避处罚罪, 违法发放贷款罪,...</td>\n",
       "      <td>[伪证罪, 非法拘禁罪, 侵犯著作权罪, 拒不支付劳动报酬罪, 伪造、变造金融票证罪]</td>\n",
       "    </tr>\n",
       "    <tr>\n",
       "      <th>2</th>\n",
       "      <td>盗窃罪</td>\n",
       "      <td>[侵犯著作权罪, 非法拘禁罪, 危险驾驶罪, 票据诈骗罪, 抢劫罪]</td>\n",
       "      <td>[掩饰、隐瞒犯罪所得、犯罪所得收益罪, 帮助犯罪分子逃避处罚罪, 故意杀人罪, 非法处置查封...</td>\n",
       "      <td>[非法侵入住宅罪, 侵犯著作权罪, 抢劫罪, 危险驾驶罪, 窝藏、包庇罪]</td>\n",
       "    </tr>\n",
       "    <tr>\n",
       "      <th>3</th>\n",
       "      <td>盗窃罪</td>\n",
       "      <td>[侵犯著作权罪, 信用卡诈骗罪, 非法拘禁罪, 票据诈骗罪, 合同诈骗罪]</td>\n",
       "      <td>[掩饰、隐瞒犯罪所得、犯罪所得收益罪, 帮助犯罪分子逃避处罚罪, 聚众扰乱公共场所秩序、交通...</td>\n",
       "      <td>[侵犯著作权罪, 抢劫罪, 危险驾驶罪, 信用卡诈骗罪, 票据诈骗罪]</td>\n",
       "    </tr>\n",
       "    <tr>\n",
       "      <th>4</th>\n",
       "      <td>盗窃罪</td>\n",
       "      <td>[侵犯著作权罪, 走私、贩卖、运输、制造毒品罪, 票据诈骗罪, 污染环境罪, 非法拘禁罪]</td>\n",
       "      <td>[组织、领导传销活动罪, 违法发放贷款罪, 掩饰、隐瞒犯罪所得、犯罪所得收益罪, 挪用资金罪...</td>\n",
       "      <td>[侵犯著作权罪, 走私、贩卖、运输、制造毒品罪, 票据诈骗罪, 挪用资金罪, 非法拘禁罪]</td>\n",
       "    </tr>\n",
       "    <tr>\n",
       "      <th>...</th>\n",
       "      <td>...</td>\n",
       "      <td>...</td>\n",
       "      <td>...</td>\n",
       "      <td>...</td>\n",
       "    </tr>\n",
       "    <tr>\n",
       "      <th>17123</th>\n",
       "      <td>强迫交易罪</td>\n",
       "      <td>[侵犯著作权罪, 挪用资金罪, 走私、贩卖、运输、制造毒品罪, 污染环境罪, 拒不支付劳动报酬罪]</td>\n",
       "      <td>[违法发放贷款罪, 组织、领导传销活动罪, 滥伐林木罪, 非法采矿罪, 挪用资金罪]</td>\n",
       "      <td>[侵犯著作权罪, 违法发放贷款罪, 挪用资金罪, 拒不支付劳动报酬罪, 走私、贩卖、运输、制...</td>\n",
       "    </tr>\n",
       "    <tr>\n",
       "      <th>17127</th>\n",
       "      <td>妨害公务罪</td>\n",
       "      <td>[非法拘禁罪, 伪证罪, 妨害公务罪, 侵犯著作权罪, 编造、故意传播虚假恐怖信息罪]</td>\n",
       "      <td>[伪证罪, 妨害公务罪, 聚众扰乱公共场所秩序、交通秩序罪, 帮助犯罪分子逃避处罚罪, 违法...</td>\n",
       "      <td>[非法侵入住宅罪, 伪证罪, 编造、故意传播虚假恐怖信息罪, 妨害公务罪, 非法拘禁罪]</td>\n",
       "    </tr>\n",
       "    <tr>\n",
       "      <th>17128</th>\n",
       "      <td>掩饰、隐瞒犯罪所得、犯罪所得收益罪</td>\n",
       "      <td>[走私、贩卖、运输、制造毒品罪, 侵犯著作权罪, 非法拘禁罪, 票据诈骗罪, 拐卖妇女、儿童罪]</td>\n",
       "      <td>[掩饰、隐瞒犯罪所得、犯罪所得收益罪, 组织、领导传销活动罪, 违法发放贷款罪, 挪用资金罪...</td>\n",
       "      <td>[走私、贩卖、运输、制造毒品罪, 侵犯著作权罪, 非法拘禁罪, 拐卖妇女、儿童罪, 掩饰、隐...</td>\n",
       "    </tr>\n",
       "    <tr>\n",
       "      <th>17129</th>\n",
       "      <td>窝藏、包庇罪</td>\n",
       "      <td>[非法拘禁罪, 侵犯著作权罪, 污染环境罪, 走私、贩卖、运输、制造毒品罪, 拒不支付劳动报酬罪]</td>\n",
       "      <td>[伪证罪, 聚众斗殴罪, 组织、领导传销活动罪, 滥伐林木罪, 违法发放贷款罪]</td>\n",
       "      <td>[非法拘禁罪, 侵犯著作权罪, 聚众斗殴罪, 编造、故意传播虚假恐怖信息罪, 走私、贩卖、运...</td>\n",
       "    </tr>\n",
       "    <tr>\n",
       "      <th>17130</th>\n",
       "      <td>重大责任事故罪</td>\n",
       "      <td>[危险驾驶罪, 拒不支付劳动报酬罪, 重大劳动安全事故罪, 妨害公务罪, 保险诈骗罪]</td>\n",
       "      <td>[重大责任事故罪, 重大劳动安全事故罪, 违法发放贷款罪, 妨害公务罪, 组织、领导传销活动罪]</td>\n",
       "      <td>[危险驾驶罪, 重大劳动安全事故罪, 违法发放贷款罪, 妨害公务罪, 拒不支付劳动报酬罪]</td>\n",
       "    </tr>\n",
       "  </tbody>\n",
       "</table>\n",
       "<p>13994 rows × 4 columns</p>\n",
       "</div>"
      ],
      "text/plain": [
       "              accusation                                      top_5_article  \\\n",
       "0                    盗窃罪        [对非国家工作人员行贿罪, 集资诈骗罪, 非法吸收公众存款罪, 绑架罪, 单位行贿罪]   \n",
       "1                    盗窃罪             [伪证罪, 非法拘禁罪, 侵犯著作权罪, 拒不支付劳动报酬罪, 票据诈骗罪]   \n",
       "2                    盗窃罪                 [侵犯著作权罪, 非法拘禁罪, 危险驾驶罪, 票据诈骗罪, 抢劫罪]   \n",
       "3                    盗窃罪              [侵犯著作权罪, 信用卡诈骗罪, 非法拘禁罪, 票据诈骗罪, 合同诈骗罪]   \n",
       "4                    盗窃罪      [侵犯著作权罪, 走私、贩卖、运输、制造毒品罪, 票据诈骗罪, 污染环境罪, 非法拘禁罪]   \n",
       "...                  ...                                                ...   \n",
       "17123              强迫交易罪  [侵犯著作权罪, 挪用资金罪, 走私、贩卖、运输、制造毒品罪, 污染环境罪, 拒不支付劳动报酬罪]   \n",
       "17127              妨害公务罪        [非法拘禁罪, 伪证罪, 妨害公务罪, 侵犯著作权罪, 编造、故意传播虚假恐怖信息罪]   \n",
       "17128  掩饰、隐瞒犯罪所得、犯罪所得收益罪   [走私、贩卖、运输、制造毒品罪, 侵犯著作权罪, 非法拘禁罪, 票据诈骗罪, 拐卖妇女、儿童罪]   \n",
       "17129             窝藏、包庇罪  [非法拘禁罪, 侵犯著作权罪, 污染环境罪, 走私、贩卖、运输、制造毒品罪, 拒不支付劳动报酬罪]   \n",
       "17130            重大责任事故罪        [危险驾驶罪, 拒不支付劳动报酬罪, 重大劳动安全事故罪, 妨害公务罪, 保险诈骗罪]   \n",
       "\n",
       "                                             top_5_crime  \\\n",
       "0                 [故意杀人罪, 诬告陷害罪, 故意毁坏财物罪, 侵犯著作权罪, 交通肇事罪]   \n",
       "1      [伪证罪, 掩饰、隐瞒犯罪所得、犯罪所得收益罪, 帮助犯罪分子逃避处罚罪, 违法发放贷款罪,...   \n",
       "2      [掩饰、隐瞒犯罪所得、犯罪所得收益罪, 帮助犯罪分子逃避处罚罪, 故意杀人罪, 非法处置查封...   \n",
       "3      [掩饰、隐瞒犯罪所得、犯罪所得收益罪, 帮助犯罪分子逃避处罚罪, 聚众扰乱公共场所秩序、交通...   \n",
       "4      [组织、领导传销活动罪, 违法发放贷款罪, 掩饰、隐瞒犯罪所得、犯罪所得收益罪, 挪用资金罪...   \n",
       "...                                                  ...   \n",
       "17123         [违法发放贷款罪, 组织、领导传销活动罪, 滥伐林木罪, 非法采矿罪, 挪用资金罪]   \n",
       "17127  [伪证罪, 妨害公务罪, 聚众扰乱公共场所秩序、交通秩序罪, 帮助犯罪分子逃避处罚罪, 违法...   \n",
       "17128  [掩饰、隐瞒犯罪所得、犯罪所得收益罪, 组织、领导传销活动罪, 违法发放贷款罪, 挪用资金罪...   \n",
       "17129           [伪证罪, 聚众斗殴罪, 组织、领导传销活动罪, 滥伐林木罪, 违法发放贷款罪]   \n",
       "17130   [重大责任事故罪, 重大劳动安全事故罪, 违法发放贷款罪, 妨害公务罪, 组织、领导传销活动罪]   \n",
       "\n",
       "                            top_5_definition_and_article  \n",
       "0           [故意杀人罪, 对非国家工作人员行贿罪, 集资诈骗罪, 诬告陷害罪, 持有伪造的发票罪]  \n",
       "1            [伪证罪, 非法拘禁罪, 侵犯著作权罪, 拒不支付劳动报酬罪, 伪造、变造金融票证罪]  \n",
       "2                  [非法侵入住宅罪, 侵犯著作权罪, 抢劫罪, 危险驾驶罪, 窝藏、包庇罪]  \n",
       "3                    [侵犯著作权罪, 抢劫罪, 危险驾驶罪, 信用卡诈骗罪, 票据诈骗罪]  \n",
       "4          [侵犯著作权罪, 走私、贩卖、运输、制造毒品罪, 票据诈骗罪, 挪用资金罪, 非法拘禁罪]  \n",
       "...                                                  ...  \n",
       "17123  [侵犯著作权罪, 违法发放贷款罪, 挪用资金罪, 拒不支付劳动报酬罪, 走私、贩卖、运输、制...  \n",
       "17127       [非法侵入住宅罪, 伪证罪, 编造、故意传播虚假恐怖信息罪, 妨害公务罪, 非法拘禁罪]  \n",
       "17128  [走私、贩卖、运输、制造毒品罪, 侵犯著作权罪, 非法拘禁罪, 拐卖妇女、儿童罪, 掩饰、隐...  \n",
       "17129  [非法拘禁罪, 侵犯著作权罪, 聚众斗殴罪, 编造、故意传播虚假恐怖信息罪, 走私、贩卖、运...  \n",
       "17130      [危险驾驶罪, 重大劳动安全事故罪, 违法发放贷款罪, 妨害公务罪, 拒不支付劳动报酬罪]  \n",
       "\n",
       "[13994 rows x 4 columns]"
      ]
     },
     "execution_count": 10,
     "metadata": {},
     "output_type": "execute_result"
    }
   ],
   "source": [
    "data3[['accusation','top_5_article','top_5_crime','top_5_definition_and_article']]"
   ]
  },
  {
   "cell_type": "code",
   "execution_count": 16,
   "metadata": {},
   "outputs": [],
   "source": [
    "data1.to_csv('sbert_retrivel1.csv')\n",
    "data2.to_csv('sbert_retrivel2.csv')\n",
    "data3.to_csv('sbert_retrivel3.csv')"
   ]
  },
  {
   "cell_type": "code",
   "execution_count": 2,
   "metadata": {},
   "outputs": [],
   "source": [
    "def retrievel_acc(data,column1,column2,column3):\n",
    "    acc1=0\n",
    "    acc2=0\n",
    "    acc3=0\n",
    "    for i in range(len(data)):\n",
    "        if data['accusation'].iloc[i] in data[column1].iloc[i]:\n",
    "            acc1+=1\n",
    "        if data['accusation'].iloc[i] in data[column2].iloc[i]:\n",
    "            acc2+=1\n",
    "        if data['accusation'].iloc[i] in data[column3].iloc[i]:\n",
    "            acc3+=1\n",
    "    return column1+':'+str(acc1),column2+':'+str(acc2),column3+':'+str(acc3)"
   ]
  },
  {
   "cell_type": "code",
   "execution_count": 3,
   "metadata": {},
   "outputs": [],
   "source": [
    "def each_acc(data,column):\n",
    "    acc_dict={}\n",
    "    num_dict={}\n",
    "    for i in data['accusation'].value_counts().index:\n",
    "        data_new=data[data['accusation']==i]\n",
    "        sum=0\n",
    "        for j in range(len(data_new)):\n",
    "            if data_new['accusation'].iloc[j] in data_new[column].iloc[j]:\n",
    "                sum+=1\n",
    "        acc_dict[i]=sum/len(data_new)\n",
    "    return acc_dict"
   ]
  },
  {
   "cell_type": "code",
   "execution_count": 3,
   "metadata": {},
   "outputs": [],
   "source": [
    "data1=pd.read_csv('/home/wuyuman/Chatglm/data/retrivel_data/sbert_retrivel1.csv')\n",
    "data2=pd.read_csv('/home/wuyuman/Chatglm/data/retrivel_data/sbert_retrivel2.csv')\n",
    "data3=pd.read_csv('/home/wuyuman/Chatglm/data/retrivel_data/sbert_retrivel3.csv')"
   ]
  },
  {
   "cell_type": "code",
   "execution_count": 20,
   "metadata": {},
   "outputs": [
    {
     "name": "stdout",
     "output_type": "stream",
     "text": [
      "法条规定如下。盗窃罪：盗窃公私财物，数额较大的，或者多次盗窃、入户盗窃、携带凶器盗窃、扒窃的，处三年以下有期徒刑、拘役或者管制，并处或者单处罚金;数额巨大或者有其他严重情节的，处三年以上十年以下有期徒刑，并处罚金;数额特别巨大或者有其他特别严重情节的，处十年以上有期徒刑或者无期徒刑，并处罚金或者没收财产。非法处置查封、扣押、冻结的财产罪：隐藏、转移、变卖、故意毁损已被司法机关查封、扣押、冻结的财产，情节严重的，处三年以下有期徒刑、拘役或者罚金。抢夺罪：抢夺公私财物，数额较大的，或者多次抢夺的，处三年以下有期徒刑、拘役或者管制，并处或者单处罚金;数额巨大或者有其他严重情节的，处三年以上十年以下有期徒刑，并处罚金;数额特别巨大或者有其他特别严重情节的，处十年以上有期徒刑或者无期徒刑，并处罚金或者没收财产。携带凶器抢夺的，依照本法第二百六十三条的规定定罪处罚。职务侵占罪：公司、企业或者其他单位的工作人员，利用职务上的便利，将本单位财物非法占为己有，数额较大的，处三年以下有期徒刑或者拘役，并处罚金；数额巨大的，处三年以上十年以下有期徒刑，并处罚金；数额特别巨大的，处十年以上有期徒刑或者无期徒刑，并处罚金。国有公司、企业或者其他国有单位中从事公务的人员和国有公司、企业或者其他国有单位委派到非国有公司、企业以及其他单位从事公务的人员有前款行为的，依照本法第三百八十二条、第三百八十三条的规定定罪处罚。对非国家工作人员行贿罪：为谋取不正当利益，给予公司、企业或者其他单位的工作人员以财物，数额较大的，处三年以下有期徒刑或者拘役，并处罚金;数额巨大的，处三年以上十年以下有期徒刑，并处罚金。为谋取不正当商业利益，给予外国公职人员或者国际公共组织官员以财物的，依照前款的规定处罚。单位犯前两款罪的，对单位判处罚金，并对其直接负责的主管人员和其他直接责任人员，依照第一款的规定处罚。行贿人在被追诉前主动交待行贿行为的，可以减轻处罚或者免除处罚。\n"
     ]
    }
   ],
   "source": [
    "for retrie_article in data1['top_5_article']:\n",
    "    knowledge='法条规定如下。'\n",
    "    for i in eval(retrie_article):\n",
    "        knowledge+=(i+'：'+articles[i]['内容'])\n",
    "    print(knowledge)\n",
    "    break"
   ]
  },
  {
   "cell_type": "code",
   "execution_count": null,
   "metadata": {},
   "outputs": [],
   "source": []
  },
  {
   "cell_type": "code",
   "execution_count": 21,
   "metadata": {},
   "outputs": [
    {
     "data": {
      "text/plain": [
       "0    ['盗窃罪', '非法处置查封、扣押、冻结的财产罪', '抢夺罪', '职务侵占罪', '对...\n",
       "1          ['交通肇事罪', '诬告陷害罪', '票据诈骗罪', '寻衅滋事罪', '诈骗罪']\n",
       "2              ['交通肇事罪', '盗窃罪', '招摇撞骗罪', '抢劫罪', '伪证罪']\n",
       "3    ['伪证罪', '玩忽职守罪', '诬告陷害罪', '招摇撞骗罪', '非法处置查封、扣押、...\n",
       "4    ['非法吸收公众存款罪', '出售、购买、运输假币罪', '非法处置查封、扣押、冻结的财产罪...\n",
       "5    ['诬告陷害罪', '行贿罪', '寻衅滋事罪', '单位行贿罪', '对非国家工作人员行贿罪']\n",
       "6    ['交通肇事罪', '非法拘禁罪', '非法处置查封、扣押、冻结的财产罪', '招摇撞骗罪'...\n",
       "7        ['敲诈勒索罪', '寻衅滋事罪', '诬告陷害罪', '单位行贿罪', '滥用职权罪']\n",
       "8    ['非法吸收公众存款罪', '行贿罪', '盗窃罪', '非法处置查封、扣押、冻结的财产罪'...\n",
       "9              ['盗窃罪', '伪证罪', '诈骗罪', '诬告陷害罪', '敲诈勒索罪']\n",
       "Name: top_5_article, dtype: object"
      ]
     },
     "execution_count": 21,
     "metadata": {},
     "output_type": "execute_result"
    }
   ],
   "source": [
    "data1['top_5_article'][:10]"
   ]
  },
  {
   "cell_type": "code",
   "execution_count": 5,
   "metadata": {},
   "outputs": [
    {
     "data": {
      "text/plain": [
       "('top_5_article:7375', 'top_5_crime:7190', 'top_5_definition_and_article:7225')"
      ]
     },
     "execution_count": 5,
     "metadata": {},
     "output_type": "execute_result"
    }
   ],
   "source": [
    "retrievel_acc(data=data1,column1='top_5_article',column2='top_5_crime',column3='top_5_definition_and_article')"
   ]
  },
  {
   "cell_type": "code",
   "execution_count": 25,
   "metadata": {},
   "outputs": [
    {
     "data": {
      "text/html": [
       "<div>\n",
       "<style scoped>\n",
       "    .dataframe tbody tr th:only-of-type {\n",
       "        vertical-align: middle;\n",
       "    }\n",
       "\n",
       "    .dataframe tbody tr th {\n",
       "        vertical-align: top;\n",
       "    }\n",
       "\n",
       "    .dataframe thead th {\n",
       "        text-align: right;\n",
       "    }\n",
       "</style>\n",
       "<table border=\"1\" class=\"dataframe\">\n",
       "  <thead>\n",
       "    <tr style=\"text-align: right;\">\n",
       "      <th></th>\n",
       "      <th>accusation</th>\n",
       "      <th>top_5_article</th>\n",
       "      <th>top_5_crime</th>\n",
       "      <th>top_5_definition_and_article</th>\n",
       "    </tr>\n",
       "  </thead>\n",
       "  <tbody>\n",
       "    <tr>\n",
       "      <th>0</th>\n",
       "      <td>盗窃罪</td>\n",
       "      <td>['盗窃罪', '非法处置查封、扣押、冻结的财产罪', '抢夺罪', '职务侵占罪', '对...</td>\n",
       "      <td>['盗窃罪', '非法处置查封、扣押、冻结的财产罪', '抢夺罪', '侵犯著作权罪', '...</td>\n",
       "      <td>['盗窃罪', '非法处置查封、扣押、冻结的财产罪', '职务侵占罪', '抢夺罪', '非...</td>\n",
       "    </tr>\n",
       "    <tr>\n",
       "      <th>1</th>\n",
       "      <td>盗窃罪</td>\n",
       "      <td>['交通肇事罪', '诬告陷害罪', '票据诈骗罪', '寻衅滋事罪', '诈骗罪']</td>\n",
       "      <td>['交通肇事罪', '寻衅滋事罪', '诬告陷害罪', '非法处置查封、扣押、冻结的财产罪'...</td>\n",
       "      <td>['诬告陷害罪', '交通肇事罪', '票据诈骗罪', '单位行贿罪', '寻衅滋事罪']</td>\n",
       "    </tr>\n",
       "    <tr>\n",
       "      <th>2</th>\n",
       "      <td>盗窃罪</td>\n",
       "      <td>['交通肇事罪', '盗窃罪', '招摇撞骗罪', '抢劫罪', '伪证罪']</td>\n",
       "      <td>['交通肇事罪', '盗窃罪', '抢夺罪', '抢劫罪', '寻衅滋事罪']</td>\n",
       "      <td>['交通肇事罪', '盗窃罪', '招摇撞骗罪', '抢夺罪', '冒充军人招摇撞骗罪']</td>\n",
       "    </tr>\n",
       "    <tr>\n",
       "      <th>3</th>\n",
       "      <td>盗窃罪</td>\n",
       "      <td>['伪证罪', '玩忽职守罪', '诬告陷害罪', '招摇撞骗罪', '非法处置查封、扣押、...</td>\n",
       "      <td>['非法处置查封、扣押、冻结的财产罪', '侵犯著作权罪', '寻衅滋事罪', '妨害公务罪...</td>\n",
       "      <td>['冒充军人招摇撞骗罪', '非法处置查封、扣押、冻结的财产罪', '持有、使用假币罪', ...</td>\n",
       "    </tr>\n",
       "    <tr>\n",
       "      <th>4</th>\n",
       "      <td>盗窃罪</td>\n",
       "      <td>['非法吸收公众存款罪', '出售、购买、运输假币罪', '非法处置查封、扣押、冻结的财产罪...</td>\n",
       "      <td>['非法处置查封、扣押、冻结的财产罪', '非法吸收公众存款罪', '抢夺罪', '妨害公务...</td>\n",
       "      <td>['非法处置查封、扣押、冻结的财产罪', '非法吸收公众存款罪', '出售、购买、运输假币罪...</td>\n",
       "    </tr>\n",
       "    <tr>\n",
       "      <th>...</th>\n",
       "      <td>...</td>\n",
       "      <td>...</td>\n",
       "      <td>...</td>\n",
       "      <td>...</td>\n",
       "    </tr>\n",
       "    <tr>\n",
       "      <th>2178</th>\n",
       "      <td>盗窃罪</td>\n",
       "      <td>['盗窃罪', '寻衅滋事罪', '抢劫罪', '敲诈勒索罪', '出售、购买、运输假币罪']</td>\n",
       "      <td>['盗窃罪', '抢劫罪', '非法处置查封、扣押、冻结的财产罪', '非法收购、运输盗伐、...</td>\n",
       "      <td>['盗窃罪', '寻衅滋事罪', '敲诈勒索罪', '抢劫罪', '非法处置查封、扣押、冻结...</td>\n",
       "    </tr>\n",
       "    <tr>\n",
       "      <th>2179</th>\n",
       "      <td>盗窃罪</td>\n",
       "      <td>['信用卡诈骗罪', '集资诈骗罪', '票据诈骗罪', '持有、使用假币罪', '诈骗罪']</td>\n",
       "      <td>['骗取贷款、票据承兑、金融票证罪', '持有、使用假币罪', '信用卡诈骗罪', '诈骗罪...</td>\n",
       "      <td>['信用卡诈骗罪', '集资诈骗罪', '票据诈骗罪', '持有、使用假币罪', '贷款诈骗罪']</td>\n",
       "    </tr>\n",
       "    <tr>\n",
       "      <th>2180</th>\n",
       "      <td>盗窃罪</td>\n",
       "      <td>['招摇撞骗罪', '滥用职权罪', '伪证罪', '诬告陷害罪', '非法拘禁罪']</td>\n",
       "      <td>['非法处置查封、扣押、冻结的财产罪', '行贿罪', '招摇撞骗罪', '伪证罪', '交...</td>\n",
       "      <td>['招摇撞骗罪', '冒充军人招摇撞骗罪', '单位行贿罪', '诬告陷害罪', '非法拘禁罪']</td>\n",
       "    </tr>\n",
       "    <tr>\n",
       "      <th>2181</th>\n",
       "      <td>盗窃罪</td>\n",
       "      <td>['盗窃罪', '非法处置查封、扣押、冻结的财产罪', '诈骗罪', '寻衅滋事罪', '伪...</td>\n",
       "      <td>['盗窃罪', '非法处置查封、扣押、冻结的财产罪', '侵犯著作权罪', '抢夺罪', '...</td>\n",
       "      <td>['盗窃罪', '非法处置查封、扣押、冻结的财产罪', '侵犯著作权罪', '票据诈骗罪',...</td>\n",
       "    </tr>\n",
       "    <tr>\n",
       "      <th>2182</th>\n",
       "      <td>盗窃罪</td>\n",
       "      <td>['贷款诈骗罪', '诈骗罪', '盗窃罪', '抢劫罪', '冒充军人招摇撞骗罪']</td>\n",
       "      <td>['盗窃罪', '非法处置查封、扣押、冻结的财产罪', '抢劫罪', '抢夺罪', '违法发...</td>\n",
       "      <td>['贷款诈骗罪', '冒充军人招摇撞骗罪', '信用卡诈骗罪', '集资诈骗罪', '诈骗罪']</td>\n",
       "    </tr>\n",
       "  </tbody>\n",
       "</table>\n",
       "<p>795 rows × 4 columns</p>\n",
       "</div>"
      ],
      "text/plain": [
       "     accusation                                      top_5_article  \\\n",
       "0           盗窃罪  ['盗窃罪', '非法处置查封、扣押、冻结的财产罪', '抢夺罪', '职务侵占罪', '对...   \n",
       "1           盗窃罪        ['交通肇事罪', '诬告陷害罪', '票据诈骗罪', '寻衅滋事罪', '诈骗罪']   \n",
       "2           盗窃罪            ['交通肇事罪', '盗窃罪', '招摇撞骗罪', '抢劫罪', '伪证罪']   \n",
       "3           盗窃罪  ['伪证罪', '玩忽职守罪', '诬告陷害罪', '招摇撞骗罪', '非法处置查封、扣押、...   \n",
       "4           盗窃罪  ['非法吸收公众存款罪', '出售、购买、运输假币罪', '非法处置查封、扣押、冻结的财产罪...   \n",
       "...         ...                                                ...   \n",
       "2178        盗窃罪    ['盗窃罪', '寻衅滋事罪', '抢劫罪', '敲诈勒索罪', '出售、购买、运输假币罪']   \n",
       "2179        盗窃罪    ['信用卡诈骗罪', '集资诈骗罪', '票据诈骗罪', '持有、使用假币罪', '诈骗罪']   \n",
       "2180        盗窃罪        ['招摇撞骗罪', '滥用职权罪', '伪证罪', '诬告陷害罪', '非法拘禁罪']   \n",
       "2181        盗窃罪  ['盗窃罪', '非法处置查封、扣押、冻结的财产罪', '诈骗罪', '寻衅滋事罪', '伪...   \n",
       "2182        盗窃罪        ['贷款诈骗罪', '诈骗罪', '盗窃罪', '抢劫罪', '冒充军人招摇撞骗罪']   \n",
       "\n",
       "                                            top_5_crime  \\\n",
       "0     ['盗窃罪', '非法处置查封、扣押、冻结的财产罪', '抢夺罪', '侵犯著作权罪', '...   \n",
       "1     ['交通肇事罪', '寻衅滋事罪', '诬告陷害罪', '非法处置查封、扣押、冻结的财产罪'...   \n",
       "2               ['交通肇事罪', '盗窃罪', '抢夺罪', '抢劫罪', '寻衅滋事罪']   \n",
       "3     ['非法处置查封、扣押、冻结的财产罪', '侵犯著作权罪', '寻衅滋事罪', '妨害公务罪...   \n",
       "4     ['非法处置查封、扣押、冻结的财产罪', '非法吸收公众存款罪', '抢夺罪', '妨害公务...   \n",
       "...                                                 ...   \n",
       "2178  ['盗窃罪', '抢劫罪', '非法处置查封、扣押、冻结的财产罪', '非法收购、运输盗伐、...   \n",
       "2179  ['骗取贷款、票据承兑、金融票证罪', '持有、使用假币罪', '信用卡诈骗罪', '诈骗罪...   \n",
       "2180  ['非法处置查封、扣押、冻结的财产罪', '行贿罪', '招摇撞骗罪', '伪证罪', '交...   \n",
       "2181  ['盗窃罪', '非法处置查封、扣押、冻结的财产罪', '侵犯著作权罪', '抢夺罪', '...   \n",
       "2182  ['盗窃罪', '非法处置查封、扣押、冻结的财产罪', '抢劫罪', '抢夺罪', '违法发...   \n",
       "\n",
       "                           top_5_definition_and_article  \n",
       "0     ['盗窃罪', '非法处置查封、扣押、冻结的财产罪', '职务侵占罪', '抢夺罪', '非...  \n",
       "1         ['诬告陷害罪', '交通肇事罪', '票据诈骗罪', '单位行贿罪', '寻衅滋事罪']  \n",
       "2         ['交通肇事罪', '盗窃罪', '招摇撞骗罪', '抢夺罪', '冒充军人招摇撞骗罪']  \n",
       "3     ['冒充军人招摇撞骗罪', '非法处置查封、扣押、冻结的财产罪', '持有、使用假币罪', ...  \n",
       "4     ['非法处置查封、扣押、冻结的财产罪', '非法吸收公众存款罪', '出售、购买、运输假币罪...  \n",
       "...                                                 ...  \n",
       "2178  ['盗窃罪', '寻衅滋事罪', '敲诈勒索罪', '抢劫罪', '非法处置查封、扣押、冻结...  \n",
       "2179  ['信用卡诈骗罪', '集资诈骗罪', '票据诈骗罪', '持有、使用假币罪', '贷款诈骗罪']  \n",
       "2180  ['招摇撞骗罪', '冒充军人招摇撞骗罪', '单位行贿罪', '诬告陷害罪', '非法拘禁罪']  \n",
       "2181  ['盗窃罪', '非法处置查封、扣押、冻结的财产罪', '侵犯著作权罪', '票据诈骗罪',...  \n",
       "2182   ['贷款诈骗罪', '冒充军人招摇撞骗罪', '信用卡诈骗罪', '集资诈骗罪', '诈骗罪']  \n",
       "\n",
       "[795 rows x 4 columns]"
      ]
     },
     "execution_count": 25,
     "metadata": {},
     "output_type": "execute_result"
    }
   ],
   "source": [
    "data1[data1['accusation']=='盗窃罪'][['accusation','top_5_article','top_5_crime','top_5_definition_and_article']]"
   ]
  },
  {
   "cell_type": "code",
   "execution_count": 35,
   "metadata": {},
   "outputs": [],
   "source": [
    "f_crime=[]\n",
    "for i in range(len(data1[data1['accusation']=='盗窃罪'])):\n",
    "    if data1['accusation'].iloc[i] in data1['top_5_article'].iloc[i]:\n",
    "        pass\n",
    "    else:\n",
    "        f_crime.extend(eval(data1['top_3_article'].iloc[i]))"
   ]
  },
  {
   "cell_type": "code",
   "execution_count": 67,
   "metadata": {},
   "outputs": [
    {
     "data": {
      "text/plain": [
       "'河南省 舞钢市 人民检察院 指控 2015 年 6 月 1 日 20 时许 被告人 李 1 舞钢市 朱兰 干休 路 南段 兰兴 宾馆 门口 白 某某 停放 此处 立马 牌 电动车 盗走 当庭 出示 被告人 供述 被害人 陈述 证人 证言 鉴定 意见 相关 物证 书证 证据 公诉 机关 依据 上述事实 证据 认为 被告人 李 1 行为 已 构成 罪 请求 中华人民共和国 刑法 规定 追究其 刑事责任'"
      ]
     },
     "execution_count": 67,
     "metadata": {},
     "output_type": "execute_result"
    }
   ],
   "source": [
    "import jieba"
   ]
  },
  {
   "cell_type": "code",
   "execution_count": 66,
   "metadata": {},
   "outputs": [],
   "source": [
    "stopwords = open('/home/wuyuman/Chatglm/hit_stopwords.txt').read().split('\\n')\n",
    "def clean_token(sentence_tokens):\n",
    "    tokens = []\n",
    "    for word in sentence_tokens:\n",
    "      if word in stopwords:\n",
    "        continue\n",
    "      else:\n",
    "        tokens.append(word)\n",
    "    return tokens"
   ]
  },
  {
   "cell_type": "code",
   "execution_count": null,
   "metadata": {},
   "outputs": [],
   "source": [
    "' '.join(clean_token(jieba.lcut(articles['寻衅滋事罪']['内容'])))\n",
    "' '.join(clean_token(jieba.lcut(articles['寻衅滋事罪']['内容'])))\n",
    "' '.join(clean_token(jieba.lcut(articles['寻衅滋事罪']['内容'])))\n",
    "' '.join(clean_token(jieba.lcut(articles['寻衅滋事罪']['内容'])))\n",
    "' '.join(clean_token(jieba.lcut(articles['寻衅滋事罪']['内容'])))"
   ]
  },
  {
   "cell_type": "code",
   "execution_count": 72,
   "metadata": {},
   "outputs": [
    {
     "name": "stdout",
     "output_type": "stream",
     "text": [
      "tensor([[0.3137]]) tensor([[0.3635]]) tensor([[0.4065]]) tensor([[0.3298]]) tensor([[0.3870]])\n"
     ]
    }
   ],
   "source": [
    "fact=model.encode(' '.join(jieba.lcut(data1.loc[2180,'fact'])))\n",
    "\n",
    "art1=model.encode(' '.join(jieba.lcut(articles['寻衅滋事罪']['内容'])))\n",
    "art2=model.encode(' '.join(jieba.lcut(articles['招摇撞骗罪']['内容'])))\n",
    "art3=model.encode(' '.join(jieba.lcut(articles['滥用职权罪']['内容'])))\n",
    "art4=model.encode(' '.join(jieba.lcut(articles['盗窃罪']['内容'])))\n",
    "art5=model.encode(' '.join(jieba.lcut(articles['伪证罪']['内容'])))\n",
    "r1=util.cos_sim(fact,art1)\n",
    "r2=util.cos_sim(fact,art2)\n",
    "r3=util.cos_sim(fact,art3)\n",
    "r4=util.cos_sim(fact,art4)\n",
    "r5=util.cos_sim(fact,art5)\n",
    "print(r1,r2,r3,r4,r5)"
   ]
  },
  {
   "cell_type": "code",
   "execution_count": 50,
   "metadata": {},
   "outputs": [
    {
     "data": {
      "text/plain": [
       "'有下列寻衅滋事行为之一，破坏社会秩序的，处五年以下有期徒刑、拘役或者管制：(一)随意殴打他人，情节恶劣的;(二)追逐、拦截、辱骂、恐吓他人，情节恶劣的;(三)强拿硬要或者任意损毁、占用公私财物，情节严重的;(四)在公共场所起哄闹事，造成公共场所秩序严重混乱的。纠集他人多次实施前款行为，严重破坏社会秩序的，处五年以上十年以下有期徒刑，可以并处罚金。'"
      ]
     },
     "execution_count": 50,
     "metadata": {},
     "output_type": "execute_result"
    }
   ],
   "source": [
    "articles['寻衅滋事罪']['内容']"
   ]
  },
  {
   "cell_type": "code",
   "execution_count": 52,
   "metadata": {},
   "outputs": [
    {
     "data": {
      "text/plain": [
       "'冒充国家机关工作人员招摇撞骗的，处三年以下有期徒刑、拘役、管制或者剥夺政治权利;情节严重的，处三年以上十年以下有期徒刑。冒充人民警察招摇撞骗的，依照前款的规定从重处罚。'"
      ]
     },
     "execution_count": 52,
     "metadata": {},
     "output_type": "execute_result"
    }
   ],
   "source": [
    "articles['招摇撞骗罪']['内容']"
   ]
  },
  {
   "cell_type": "code",
   "execution_count": 57,
   "metadata": {},
   "outputs": [
    {
     "data": {
      "text/plain": [
       "'国家机关工作人员滥用职权或者玩忽职守，致使公共财产、国家和人民利益遭受重大损失的，处三年以下有期徒刑或者拘役;情节特别严重的，处三年以上七年以下有期徒刑。本法另有规定的，依照规定。国家机关工作人员徇私舞弊，犯前款罪的，处五年以下有期徒刑或者拘役;情节特别严重的，处五年以上十年以下有期徒刑。本法另有规定的，依照规定。'"
      ]
     },
     "execution_count": 57,
     "metadata": {},
     "output_type": "execute_result"
    }
   ],
   "source": [
    "articles['滥用职权罪']['内容']"
   ]
  },
  {
   "cell_type": "code",
   "execution_count": 58,
   "metadata": {},
   "outputs": [
    {
     "data": {
      "text/plain": [
       "'在刑事诉讼中，证人、鉴定人、记录人、翻译人对与案件有重要关系的情节，故意作虚假证明、鉴定、记录、翻译，意图陷害他人或者隐匿罪证的，处三年以下有期徒刑或者拘役;情节严重的，处三年以上七年以下有期徒刑。'"
      ]
     },
     "execution_count": 58,
     "metadata": {},
     "output_type": "execute_result"
    }
   ],
   "source": [
    "articles['伪证罪']['内容']"
   ]
  },
  {
   "cell_type": "code",
   "execution_count": 62,
   "metadata": {},
   "outputs": [
    {
     "data": {
      "text/plain": [
       "'盗窃公私财物，数额较大的，或者多次盗窃、入户盗窃、携带凶器盗窃、扒窃的，处三年以下有期徒刑、拘役或者管制，并处或者单处罚金;数额巨大或者有其他严重情节的，处三年以上十年以下有期徒刑，并处罚金;数额特别巨大或者有其他特别严重情节的，处十年以上有期徒刑或者无期徒刑，并处罚金或者没收财产。'"
      ]
     },
     "execution_count": 62,
     "metadata": {},
     "output_type": "execute_result"
    }
   ],
   "source": [
    "articles['盗窃罪']['内容']"
   ]
  },
  {
   "cell_type": "code",
   "execution_count": 55,
   "metadata": {},
   "outputs": [
    {
     "data": {
      "text/plain": [
       "'河南省舞钢市人民检察院指控，2015年6月1日20时许，被告人李1某在舞钢市朱兰干休路南段兰兴宾馆门口将白某某停放在此处的立马牌电动车盗走。并当庭出示了被告人供述、被害人陈述、证人证言、鉴定意见、相关物证、书证等证据。公诉机关依据上述事实、证据，认为被告人李1某行为已构成××罪，请求依照《中华人民共和国刑法》××之规定追究其刑事责任。'"
      ]
     },
     "execution_count": 55,
     "metadata": {},
     "output_type": "execute_result"
    }
   ],
   "source": [
    "data1.loc[2180,'fact']"
   ]
  },
  {
   "cell_type": "code",
   "execution_count": 73,
   "metadata": {},
   "outputs": [
    {
     "data": {
      "text/plain": [
       "\"['招摇撞骗罪', '滥用职权罪', '伪证罪']\""
      ]
     },
     "execution_count": 73,
     "metadata": {},
     "output_type": "execute_result"
    }
   ],
   "source": [
    "data1.loc[2180,'top_3_article']"
   ]
  },
  {
   "cell_type": "code",
   "execution_count": 51,
   "metadata": {},
   "outputs": [
    {
     "data": {
      "text/plain": [
       "'盗窃公私财物，数额较大的，或者多次盗窃、入户盗窃、携带凶器盗窃、扒窃的，处三年以下有期徒刑、拘役或者管制，并处或者单处罚金;数额巨大或者有其他严重情节的，处三年以上十年以下有期徒刑，并处罚金;数额特别巨大或者有其他特别严重情节的，处十年以上有期徒刑或者无期徒刑，并处罚金或者没收财产。'"
      ]
     },
     "execution_count": 51,
     "metadata": {},
     "output_type": "execute_result"
    }
   ],
   "source": [
    "articles['盗窃罪']['内容']"
   ]
  },
  {
   "cell_type": "code",
   "execution_count": 53,
   "metadata": {},
   "outputs": [
    {
     "data": {
      "text/plain": [
       "'寻衅滋事罪是指在公共场所无事生非，起哄闹事，殴打伤害无辜，肆意挑衅，横行霸道，破坏公共秩序的行为。'"
      ]
     },
     "execution_count": 53,
     "metadata": {},
     "output_type": "execute_result"
    }
   ],
   "source": [
    "elements['寻衅滋事'][0]"
   ]
  },
  {
   "cell_type": "code",
   "execution_count": null,
   "metadata": {},
   "outputs": [],
   "source": []
  },
  {
   "cell_type": "code",
   "execution_count": 24,
   "metadata": {},
   "outputs": [
    {
     "data": {
      "text/plain": [
       "{'盗窃罪': 0.47924528301886793,\n",
       " '走私、贩卖、运输、制造毒品罪': 0.9252577319587629,\n",
       " '故意伤害罪': 0.3157051282051282,\n",
       " '诈骗罪': 0.4208955223880597,\n",
       " '寻衅滋事罪': 0.7922077922077922,\n",
       " '抢劫罪': 0.2935153583617747,\n",
       " '危险驾驶罪': 0.985663082437276,\n",
       " '合同诈骗罪': 0.007874015748031496,\n",
       " '故意杀人罪': 0.4885844748858447,\n",
       " '非法占用农用地罪': 0.9607843137254902,\n",
       " '信用卡诈骗罪': 0.896551724137931,\n",
       " '虚开增值税专用发票、用于骗取出口退税、抵扣税款发票罪': 0.7178217821782178,\n",
       " '强奸罪': 0.26732673267326734,\n",
       " '滥伐林木罪': 0.9698492462311558,\n",
       " '非法持有、私藏枪支、弹药罪': 0.9698492462311558,\n",
       " '交通肇事罪': 0.9949238578680203,\n",
       " '非法经营罪': 0.10309278350515463,\n",
       " '生产、销售有毒、有害食品罪': 0.6839378238341969,\n",
       " '过失致人死亡罪': 0.20207253886010362,\n",
       " '生产、销售不符合安全标准的食品罪': 0.5625,\n",
       " '污染环境罪': 0.4166666666666667,\n",
       " '非法行医罪': 0.984375,\n",
       " '非法种植毒品原植物罪': 0.9010416666666666,\n",
       " '假冒注册商标罪': 0.612565445026178,\n",
       " '非法吸收公众存款罪': 0.3612565445026178,\n",
       " '销售假冒注册商标的商品罪': 0.4842105263157895,\n",
       " '拒不支付劳动报酬罪': 0.7473684210526316,\n",
       " '盗伐林木罪': 0.9368421052631579,\n",
       " '拒不执行判决、裁定罪': 0.6613756613756614,\n",
       " '故意毁坏财物罪': 0.08465608465608465,\n",
       " '职务侵占罪': 0.005291005291005291,\n",
       " '聚众斗殴罪': 0.5053191489361702,\n",
       " '行贿罪': 0.49732620320855614,\n",
       " '敲诈勒索罪': 0.22459893048128343,\n",
       " '窝藏、包庇罪': 0.0967741935483871,\n",
       " '放火罪': 0.7365591397849462,\n",
       " '妨害公务罪': 0.7956989247311828,\n",
       " '非国家工作人员受贿罪': 0.0,\n",
       " '开设赌场罪': 0.7065217391304348,\n",
       " '非法制造、买卖、运输、邮寄、储存枪支、弹药、爆炸物罪': 0.7608695652173914,\n",
       " '挪用资金罪': 0.2459016393442623,\n",
       " '骗取贷款、票据承兑、金融票证罪': 0.8852459016393442,\n",
       " '掩饰、隐瞒犯罪所得、犯罪所得收益罪': 0.038461538461538464,\n",
       " '玩忽职守罪': 0.2849162011173184,\n",
       " '非法持有毒品罪': 0.7921348314606742,\n",
       " '重大责任事故罪': 0.1206896551724138,\n",
       " '贪污罪': 0.1907514450867052,\n",
       " '挪用公款罪': 0.3179190751445087,\n",
       " '非法拘禁罪': 0.07602339181286549,\n",
       " '伪造、变造、买卖国家机关公文、证件、印章罪': 0.49696969696969695,\n",
       " '滥用职权罪': 0.42038216560509556,\n",
       " '伪造公司、企业、事业单位、人民团体印章罪': 0.5844155844155844,\n",
       " '非法侵入住宅罪': 0.3050847457627119,\n",
       " '赌博罪': 0.08695652173913043,\n",
       " '生产、销售伪劣产品罪': 0.21153846153846154,\n",
       " '单位行贿罪': 0.0,\n",
       " '招摇撞骗罪': 0.24468085106382978,\n",
       " '过失致人重伤罪': 0.18181818181818182,\n",
       " '猥亵儿童罪': 0.2987012987012987,\n",
       " '非法采矿罪': 0.9402985074626866,\n",
       " '抢夺罪': 0.4090909090909091,\n",
       " '非法捕捞水产品罪': 1.0,\n",
       " '破坏广播电视设施、公用电信设施罪': 0.48333333333333334,\n",
       " '破坏生产经营罪': 0.016666666666666666,\n",
       " '集资诈骗罪': 0.0847457627118644,\n",
       " '拐卖妇女、儿童罪': 0.4576271186440678,\n",
       " '重婚罪': 0.5370370370370371,\n",
       " '绑架罪': 0.0,\n",
       " '破坏电力设备罪': 0.6,\n",
       " '持有伪造的发票罪': 0.7708333333333334,\n",
       " '非法处置查封、扣押、冻结的财产罪': 0.8611111111111112,\n",
       " '虚开发票罪': 0.3333333333333333,\n",
       " '投放危险物质罪': 0.029411764705882353,\n",
       " '重大劳动安全事故罪': 0.47058823529411764,\n",
       " '持有、使用假币罪': 0.9393939393939394,\n",
       " '侵犯著作权罪': 0.8787878787878788,\n",
       " '组织、领导传销活动罪': 0.9090909090909091,\n",
       " '盗掘古文化遗址、古墓葬罪': 0.9666666666666667,\n",
       " '非法转让、倒卖土地使用权罪': 0.7241379310344828,\n",
       " '爆炸罪': 0.3793103448275862,\n",
       " '聚众扰乱社会秩序罪': 0.03571428571428571,\n",
       " '保险诈骗罪': 0.42857142857142855,\n",
       " '破坏易燃易爆设备罪': 0.07407407407407407,\n",
       " '强迫交易罪': 0.07407407407407407,\n",
       " '对非国家工作人员行贿罪': 0.0,\n",
       " '违法发放贷款罪': 1.0,\n",
       " '诬告陷害罪': 0.18181818181818182,\n",
       " '冒充军人招摇撞骗罪': 0.6363636363636364,\n",
       " '票据诈骗罪': 0.25,\n",
       " '伪造、变造金融票证罪': 0.5263157894736842,\n",
       " '介绍贿赂罪': 0.05555555555555555,\n",
       " '出售、购买、运输假币罪': 0.8888888888888888,\n",
       " '贷款诈骗罪': 0.8,\n",
       " '聚众扰乱公共场所秩序、交通秩序罪': 0.8666666666666667,\n",
       " '帮助犯罪分子逃避处罚罪': 0.26666666666666666,\n",
       " '伪证罪': 0.21428571428571427,\n",
       " '串通投标罪': 0.2857142857142857,\n",
       " '编造、故意传播虚假恐怖信息罪': 0.07692307692307693,\n",
       " '非法出售发票罪': 1.0,\n",
       " '拐骗儿童罪': 0.5833333333333334,\n",
       " '制作、复制、出版、贩卖、传播淫秽物品牟利罪': 0.9166666666666666,\n",
       " '遗弃罪': 0.08333333333333333,\n",
       " '非法进行节育手术罪': 1.0,\n",
       " '非法收购、运输盗伐、滥伐的林木罪': 1.0}"
      ]
     },
     "execution_count": 24,
     "metadata": {},
     "output_type": "execute_result"
    }
   ],
   "source": [
    "each_acc(data=data1,column='top_5_crime')"
   ]
  },
  {
   "cell_type": "code",
   "execution_count": 17,
   "metadata": {},
   "outputs": [
    {
     "data": {
      "text/plain": [
       "{'盗窃罪': 0.35471698113207545,\n",
       " '走私、贩卖、运输、制造毒品罪': 0.9574742268041238,\n",
       " '故意伤害罪': 0.5673076923076923,\n",
       " '诈骗罪': 0.6447761194029851,\n",
       " '寻衅滋事罪': 0.6396103896103896,\n",
       " '抢劫罪': 0.21160409556313994,\n",
       " '危险驾驶罪': 0.985663082437276,\n",
       " '合同诈骗罪': 0.18503937007874016,\n",
       " '故意杀人罪': 0.2420091324200913,\n",
       " '非法占用农用地罪': 0.8578431372549019,\n",
       " '信用卡诈骗罪': 0.9507389162561576,\n",
       " '虚开增值税专用发票、用于骗取出口退税、抵扣税款发票罪': 0.5643564356435643,\n",
       " '强奸罪': 0.26732673267326734,\n",
       " '滥伐林木罪': 0.9547738693467337,\n",
       " '非法持有、私藏枪支、弹药罪': 0.9798994974874372,\n",
       " '交通肇事罪': 0.9949238578680203,\n",
       " '非法经营罪': 0.015463917525773196,\n",
       " '生产、销售有毒、有害食品罪': 0.5595854922279793,\n",
       " '过失致人死亡罪': 0.15025906735751296,\n",
       " '生产、销售不符合安全标准的食品罪': 0.6197916666666666,\n",
       " '污染环境罪': 0.6614583333333334,\n",
       " '非法行医罪': 0.984375,\n",
       " '非法种植毒品原植物罪': 0.9010416666666666,\n",
       " '假冒注册商标罪': 0.5340314136125655,\n",
       " '非法吸收公众存款罪': 0.33507853403141363,\n",
       " '销售假冒注册商标的商品罪': 0.6684210526315789,\n",
       " '拒不支付劳动报酬罪': 0.7578947368421053,\n",
       " '盗伐林木罪': 0.9052631578947369,\n",
       " '拒不执行判决、裁定罪': 0.8042328042328042,\n",
       " '故意毁坏财物罪': 0.15873015873015872,\n",
       " '职务侵占罪': 0.3386243386243386,\n",
       " '聚众斗殴罪': 0.3882978723404255,\n",
       " '行贿罪': 0.6042780748663101,\n",
       " '敲诈勒索罪': 0.19786096256684493,\n",
       " '窝藏、包庇罪': 0.13440860215053763,\n",
       " '放火罪': 0.543010752688172,\n",
       " '妨害公务罪': 0.489247311827957,\n",
       " '非国家工作人员受贿罪': 0.23243243243243245,\n",
       " '开设赌场罪': 0.7010869565217391,\n",
       " '非法制造、买卖、运输、邮寄、储存枪支、弹药、爆炸物罪': 0.41847826086956524,\n",
       " '挪用资金罪': 0.2185792349726776,\n",
       " '骗取贷款、票据承兑、金融票证罪': 0.8524590163934426,\n",
       " '掩饰、隐瞒犯罪所得、犯罪所得收益罪': 0.04395604395604396,\n",
       " '玩忽职守罪': 0.3743016759776536,\n",
       " '非法持有毒品罪': 0.8426966292134831,\n",
       " '重大责任事故罪': 0.1724137931034483,\n",
       " '贪污罪': 0.03468208092485549,\n",
       " '挪用公款罪': 0.2254335260115607,\n",
       " '非法拘禁罪': 0.1871345029239766,\n",
       " '伪造、变造、买卖国家机关公文、证件、印章罪': 0.3939393939393939,\n",
       " '滥用职权罪': 0.39490445859872614,\n",
       " '伪造公司、企业、事业单位、人民团体印章罪': 0.577922077922078,\n",
       " '非法侵入住宅罪': 0.4745762711864407,\n",
       " '赌博罪': 0.1391304347826087,\n",
       " '生产、销售伪劣产品罪': 0.21153846153846154,\n",
       " '单位行贿罪': 0.4,\n",
       " '招摇撞骗罪': 0.5957446808510638,\n",
       " '过失致人重伤罪': 0.18181818181818182,\n",
       " '猥亵儿童罪': 0.33766233766233766,\n",
       " '非法采矿罪': 0.8955223880597015,\n",
       " '抢夺罪': 0.13636363636363635,\n",
       " '非法捕捞水产品罪': 0.9846153846153847,\n",
       " '破坏广播电视设施、公用电信设施罪': 0.45,\n",
       " '破坏生产经营罪': 0.05,\n",
       " '集资诈骗罪': 0.4915254237288136,\n",
       " '拐卖妇女、儿童罪': 0.6440677966101694,\n",
       " '重婚罪': 0.7037037037037037,\n",
       " '绑架罪': 0.03773584905660377,\n",
       " '破坏电力设备罪': 0.6,\n",
       " '持有伪造的发票罪': 0.8333333333333334,\n",
       " '非法处置查封、扣押、冻结的财产罪': 0.4166666666666667,\n",
       " '虚开发票罪': 0.5277777777777778,\n",
       " '投放危险物质罪': 0.029411764705882353,\n",
       " '重大劳动安全事故罪': 0.6176470588235294,\n",
       " '持有、使用假币罪': 0.9696969696969697,\n",
       " '侵犯著作权罪': 0.696969696969697,\n",
       " '组织、领导传销活动罪': 0.7878787878787878,\n",
       " '盗掘古文化遗址、古墓葬罪': 0.9666666666666667,\n",
       " '非法转让、倒卖土地使用权罪': 0.6896551724137931,\n",
       " '爆炸罪': 0.2413793103448276,\n",
       " '聚众扰乱社会秩序罪': 0.2857142857142857,\n",
       " '保险诈骗罪': 0.6785714285714286,\n",
       " '破坏易燃易爆设备罪': 0.1111111111111111,\n",
       " '强迫交易罪': 0.1111111111111111,\n",
       " '对非国家工作人员行贿罪': 0.48,\n",
       " '违法发放贷款罪': 1.0,\n",
       " '诬告陷害罪': 0.3181818181818182,\n",
       " '冒充军人招摇撞骗罪': 0.8636363636363636,\n",
       " '票据诈骗罪': 0.6,\n",
       " '伪造、变造金融票证罪': 0.5789473684210527,\n",
       " '介绍贿赂罪': 0.1111111111111111,\n",
       " '出售、购买、运输假币罪': 0.9444444444444444,\n",
       " '贷款诈骗罪': 0.8666666666666667,\n",
       " '聚众扰乱公共场所秩序、交通秩序罪': 0.8,\n",
       " '帮助犯罪分子逃避处罚罪': 0.2,\n",
       " '伪证罪': 0.21428571428571427,\n",
       " '串通投标罪': 0.2857142857142857,\n",
       " '编造、故意传播虚假恐怖信息罪': 0.6923076923076923,\n",
       " '非法出售发票罪': 1.0,\n",
       " '拐骗儿童罪': 0.4166666666666667,\n",
       " '制作、复制、出版、贩卖、传播淫秽物品牟利罪': 0.9166666666666666,\n",
       " '遗弃罪': 0.16666666666666666,\n",
       " '非法进行节育手术罪': 1.0,\n",
       " '非法收购、运输盗伐、滥伐的林木罪': 1.0}"
      ]
     },
     "execution_count": 17,
     "metadata": {},
     "output_type": "execute_result"
    }
   ],
   "source": [
    "each_acc(data=data1,column='top_5_article')"
   ]
  },
  {
   "cell_type": "code",
   "execution_count": 18,
   "metadata": {},
   "outputs": [
    {
     "data": {
      "text/plain": [
       "('top_5_article:6483', 'top_5_crime:4726', 'top_5_definition_and_article:7027')"
      ]
     },
     "execution_count": 18,
     "metadata": {},
     "output_type": "execute_result"
    }
   ],
   "source": [
    "retrievel_acc(data=data2,column1='top_5_article',column2='top_5_crime',column3='top_5_definition_and_article')"
   ]
  },
  {
   "cell_type": "code",
   "execution_count": 20,
   "metadata": {},
   "outputs": [
    {
     "data": {
      "text/plain": [
       "{'盗窃罪': 0.08427672955974842,\n",
       " '走私、贩卖、运输、制造毒品罪': 0.8337628865979382,\n",
       " '故意伤害罪': 0.4310897435897436,\n",
       " '诈骗罪': 0.2955223880597015,\n",
       " '寻衅滋事罪': 0.1525974025974026,\n",
       " '抢劫罪': 0.0034129692832764505,\n",
       " '危险驾驶罪': 0.8960573476702509,\n",
       " '合同诈骗罪': 0.047244094488188976,\n",
       " '故意杀人罪': 0.1004566210045662,\n",
       " '非法占用农用地罪': 0.9411764705882353,\n",
       " '信用卡诈骗罪': 0.8866995073891626,\n",
       " '虚开增值税专用发票、用于骗取出口退税、抵扣税款发票罪': 0.801980198019802,\n",
       " '强奸罪': 0.16336633663366337,\n",
       " '滥伐林木罪': 0.7185929648241206,\n",
       " '非法持有、私藏枪支、弹药罪': 0.964824120603015,\n",
       " '交通肇事罪': 0.9949238578680203,\n",
       " '非法经营罪': 0.20618556701030927,\n",
       " '生产、销售有毒、有害食品罪': 0.43005181347150256,\n",
       " '过失致人死亡罪': 0.11398963730569948,\n",
       " '生产、销售不符合安全标准的食品罪': 0.4375,\n",
       " '污染环境罪': 0.828125,\n",
       " '非法行医罪': 0.9479166666666666,\n",
       " '非法种植毒品原植物罪': 0.953125,\n",
       " '假冒注册商标罪': 0.4031413612565445,\n",
       " '非法吸收公众存款罪': 0.42408376963350786,\n",
       " '销售假冒注册商标的商品罪': 0.7947368421052632,\n",
       " '拒不支付劳动报酬罪': 0.8789473684210526,\n",
       " '盗伐林木罪': 0.7105263157894737,\n",
       " '拒不执行判决、裁定罪': 0.8412698412698413,\n",
       " '故意毁坏财物罪': 0.36507936507936506,\n",
       " '职务侵占罪': 0.07407407407407407,\n",
       " '聚众斗殴罪': 0.30319148936170215,\n",
       " '行贿罪': 0.3422459893048128,\n",
       " '敲诈勒索罪': 0.0,\n",
       " '窝藏、包庇罪': 0.20967741935483872,\n",
       " '放火罪': 0.6290322580645161,\n",
       " '妨害公务罪': 0.10215053763440861,\n",
       " '非国家工作人员受贿罪': 0.07027027027027027,\n",
       " '开设赌场罪': 0.7880434782608695,\n",
       " '非法制造、买卖、运输、邮寄、储存枪支、弹药、爆炸物罪': 0.4891304347826087,\n",
       " '挪用资金罪': 0.3442622950819672,\n",
       " '骗取贷款、票据承兑、金融票证罪': 0.907103825136612,\n",
       " '掩饰、隐瞒犯罪所得、犯罪所得收益罪': 0.04945054945054945,\n",
       " '玩忽职守罪': 0.33519553072625696,\n",
       " '非法持有毒品罪': 0.5898876404494382,\n",
       " '重大责任事故罪': 0.40804597701149425,\n",
       " '贪污罪': 0.017341040462427744,\n",
       " '挪用公款罪': 0.45664739884393063,\n",
       " '非法拘禁罪': 0.12280701754385964,\n",
       " '伪造、变造、买卖国家机关公文、证件、印章罪': 0.48484848484848486,\n",
       " '滥用职权罪': 0.09554140127388536,\n",
       " '伪造公司、企业、事业单位、人民团体印章罪': 0.538961038961039,\n",
       " '非法侵入住宅罪': 0.6016949152542372,\n",
       " '赌博罪': 0.45217391304347826,\n",
       " '生产、销售伪劣产品罪': 0.625,\n",
       " '单位行贿罪': 0.4,\n",
       " '招摇撞骗罪': 0.1702127659574468,\n",
       " '过失致人重伤罪': 0.6136363636363636,\n",
       " '猥亵儿童罪': 0.6753246753246753,\n",
       " '非法采矿罪': 0.9253731343283582,\n",
       " '抢夺罪': 0.19696969696969696,\n",
       " '非法捕捞水产品罪': 0.9384615384615385,\n",
       " '破坏广播电视设施、公用电信设施罪': 0.55,\n",
       " '破坏生产经营罪': 0.21666666666666667,\n",
       " '集资诈骗罪': 0.22033898305084745,\n",
       " '拐卖妇女、儿童罪': 0.22033898305084745,\n",
       " '重婚罪': 1.0,\n",
       " '绑架罪': 0.018867924528301886,\n",
       " '破坏电力设备罪': 0.3,\n",
       " '持有伪造的发票罪': 0.6666666666666666,\n",
       " '非法处置查封、扣押、冻结的财产罪': 0.6944444444444444,\n",
       " '虚开发票罪': 0.19444444444444445,\n",
       " '投放危险物质罪': 0.38235294117647056,\n",
       " '重大劳动安全事故罪': 0.5,\n",
       " '持有、使用假币罪': 0.9696969696969697,\n",
       " '侵犯著作权罪': 0.6363636363636364,\n",
       " '组织、领导传销活动罪': 0.696969696969697,\n",
       " '盗掘古文化遗址、古墓葬罪': 0.8666666666666667,\n",
       " '非法转让、倒卖土地使用权罪': 1.0,\n",
       " '爆炸罪': 0.20689655172413793,\n",
       " '聚众扰乱社会秩序罪': 0.0,\n",
       " '保险诈骗罪': 0.4642857142857143,\n",
       " '破坏易燃易爆设备罪': 0.037037037037037035,\n",
       " '强迫交易罪': 0.14814814814814814,\n",
       " '对非国家工作人员行贿罪': 0.16,\n",
       " '违法发放贷款罪': 0.875,\n",
       " '诬告陷害罪': 0.5909090909090909,\n",
       " '冒充军人招摇撞骗罪': 0.36363636363636365,\n",
       " '票据诈骗罪': 0.5,\n",
       " '伪造、变造金融票证罪': 0.7894736842105263,\n",
       " '介绍贿赂罪': 0.16666666666666666,\n",
       " '出售、购买、运输假币罪': 1.0,\n",
       " '贷款诈骗罪': 0.8666666666666667,\n",
       " '聚众扰乱公共场所秩序、交通秩序罪': 0.4666666666666667,\n",
       " '帮助犯罪分子逃避处罚罪': 0.6666666666666666,\n",
       " '伪证罪': 0.7142857142857143,\n",
       " '串通投标罪': 0.6428571428571429,\n",
       " '编造、故意传播虚假恐怖信息罪': 0.6923076923076923,\n",
       " '非法出售发票罪': 0.5833333333333334,\n",
       " '拐骗儿童罪': 0.9166666666666666,\n",
       " '制作、复制、出版、贩卖、传播淫秽物品牟利罪': 0.3333333333333333,\n",
       " '遗弃罪': 0.0,\n",
       " '非法进行节育手术罪': 1.0,\n",
       " '非法收购、运输盗伐、滥伐的林木罪': 1.0}"
      ]
     },
     "execution_count": 20,
     "metadata": {},
     "output_type": "execute_result"
    }
   ],
   "source": [
    "each_acc(data=data2,column='top_5_article')"
   ]
  },
  {
   "cell_type": "code",
   "execution_count": 19,
   "metadata": {},
   "outputs": [
    {
     "data": {
      "text/plain": [
       "('top_5_article:3883', 'top_5_crime:4044', 'top_5_definition_and_article:4751')"
      ]
     },
     "execution_count": 19,
     "metadata": {},
     "output_type": "execute_result"
    }
   ],
   "source": [
    "retrievel_acc(data=data3,column1='top_5_article',column2='top_5_crime',column3='top_5_definition_and_article')"
   ]
  },
  {
   "cell_type": "code",
   "execution_count": 21,
   "metadata": {},
   "outputs": [
    {
     "data": {
      "text/plain": [
       "{'盗窃罪': 0.0,\n",
       " '走私、贩卖、运输、制造毒品罪': 0.9858247422680413,\n",
       " '故意伤害罪': 0.0,\n",
       " '诈骗罪': 0.982089552238806,\n",
       " '寻衅滋事罪': 0.09415584415584416,\n",
       " '抢劫罪': 0.020477815699658702,\n",
       " '危险驾驶罪': 0.992831541218638,\n",
       " '合同诈骗罪': 0.7598425196850394,\n",
       " '故意杀人罪': 0.0,\n",
       " '非法占用农用地罪': 0.23529411764705882,\n",
       " '信用卡诈骗罪': 0.8719211822660099,\n",
       " '虚开增值税专用发票、用于骗取出口退税、抵扣税款发票罪': 0.9702970297029703,\n",
       " '强奸罪': 0.1188118811881188,\n",
       " '滥伐林木罪': 0.0,\n",
       " '非法持有、私藏枪支、弹药罪': 0.7085427135678392,\n",
       " '交通肇事罪': 0.07614213197969544,\n",
       " '非法经营罪': 0.07731958762886598,\n",
       " '生产、销售有毒、有害食品罪': 0.015544041450777202,\n",
       " '过失致人死亡罪': 0.0,\n",
       " '生产、销售不符合安全标准的食品罪': 0.0,\n",
       " '污染环境罪': 0.9895833333333334,\n",
       " '非法行医罪': 0.0,\n",
       " '非法种植毒品原植物罪': 0.9479166666666666,\n",
       " '假冒注册商标罪': 0.0,\n",
       " '非法吸收公众存款罪': 0.010471204188481676,\n",
       " '销售假冒注册商标的商品罪': 0.0,\n",
       " '拒不支付劳动报酬罪': 0.9947368421052631,\n",
       " '盗伐林木罪': 0.0,\n",
       " '拒不执行判决、裁定罪': 0.026455026455026454,\n",
       " '故意毁坏财物罪': 0.0,\n",
       " '职务侵占罪': 0.0,\n",
       " '聚众斗殴罪': 0.14893617021276595,\n",
       " '行贿罪': 0.6203208556149733,\n",
       " '敲诈勒索罪': 0.0,\n",
       " '窝藏、包庇罪': 0.14516129032258066,\n",
       " '放火罪': 0.0,\n",
       " '妨害公务罪': 0.3172043010752688,\n",
       " '非国家工作人员受贿罪': 0.21621621621621623,\n",
       " '开设赌场罪': 0.0,\n",
       " '非法制造、买卖、运输、邮寄、储存枪支、弹药、爆炸物罪': 0.358695652173913,\n",
       " '挪用资金罪': 0.9781420765027322,\n",
       " '骗取贷款、票据承兑、金融票证罪': 0.09836065573770492,\n",
       " '掩饰、隐瞒犯罪所得、犯罪所得收益罪': 0.016483516483516484,\n",
       " '玩忽职守罪': 0.0,\n",
       " '非法持有毒品罪': 0.02247191011235955,\n",
       " '重大责任事故罪': 0.005747126436781609,\n",
       " '贪污罪': 0.16184971098265896,\n",
       " '挪用公款罪': 0.32947976878612717,\n",
       " '非法拘禁罪': 1.0,\n",
       " '伪造、变造、买卖国家机关公文、证件、印章罪': 0.006060606060606061,\n",
       " '滥用职权罪': 0.006369426751592357,\n",
       " '伪造公司、企业、事业单位、人民团体印章罪': 0.0,\n",
       " '非法侵入住宅罪': 0.03389830508474576,\n",
       " '赌博罪': 0.0,\n",
       " '生产、销售伪劣产品罪': 0.0,\n",
       " '单位行贿罪': 0.06,\n",
       " '招摇撞骗罪': 0.0,\n",
       " '过失致人重伤罪': 0.0,\n",
       " '猥亵儿童罪': 0.0,\n",
       " '非法采矿罪': 0.5223880597014925,\n",
       " '抢夺罪': 0.0,\n",
       " '非法捕捞水产品罪': 0.5538461538461539,\n",
       " '破坏广播电视设施、公用电信设施罪': 0.0,\n",
       " '破坏生产经营罪': 0.0,\n",
       " '集资诈骗罪': 0.01694915254237288,\n",
       " '拐卖妇女、儿童罪': 0.7457627118644068,\n",
       " '重婚罪': 0.0,\n",
       " '绑架罪': 0.0,\n",
       " '破坏电力设备罪': 0.0,\n",
       " '持有伪造的发票罪': 0.0,\n",
       " '非法处置查封、扣押、冻结的财产罪': 0.0,\n",
       " '虚开发票罪': 0.0,\n",
       " '投放危险物质罪': 0.0,\n",
       " '重大劳动安全事故罪': 0.0,\n",
       " '持有、使用假币罪': 0.0,\n",
       " '侵犯著作权罪': 1.0,\n",
       " '组织、领导传销活动罪': 0.9090909090909091,\n",
       " '盗掘古文化遗址、古墓葬罪': 0.4,\n",
       " '非法转让、倒卖土地使用权罪': 0.0,\n",
       " '爆炸罪': 0.0,\n",
       " '聚众扰乱社会秩序罪': 0.0,\n",
       " '保险诈骗罪': 0.9642857142857143,\n",
       " '破坏易燃易爆设备罪': 0.0,\n",
       " '强迫交易罪': 0.0,\n",
       " '对非国家工作人员行贿罪': 0.48,\n",
       " '违法发放贷款罪': 0.25,\n",
       " '诬告陷害罪': 0.09090909090909091,\n",
       " '冒充军人招摇撞骗罪': 0.0,\n",
       " '票据诈骗罪': 0.95,\n",
       " '伪造、变造金融票证罪': 0.10526315789473684,\n",
       " '介绍贿赂罪': 0.0,\n",
       " '出售、购买、运输假币罪': 0.0,\n",
       " '贷款诈骗罪': 0.0,\n",
       " '聚众扰乱公共场所秩序、交通秩序罪': 0.8,\n",
       " '帮助犯罪分子逃避处罚罪': 0.0,\n",
       " '伪证罪': 0.42857142857142855,\n",
       " '串通投标罪': 0.0,\n",
       " '编造、故意传播虚假恐怖信息罪': 0.8461538461538461,\n",
       " '非法出售发票罪': 0.0,\n",
       " '拐骗儿童罪': 0.0,\n",
       " '制作、复制、出版、贩卖、传播淫秽物品牟利罪': 0.0,\n",
       " '遗弃罪': 0.0,\n",
       " '非法进行节育手术罪': 0.0,\n",
       " '非法收购、运输盗伐、滥伐的林木罪': 0.0}"
      ]
     },
     "execution_count": 21,
     "metadata": {},
     "output_type": "execute_result"
    }
   ],
   "source": [
    "each_acc(data=data3,column='top_5_article')"
   ]
  },
  {
   "cell_type": "code",
   "execution_count": 92,
   "metadata": {},
   "outputs": [],
   "source": [
    "crime_selected=['故意伤害', '诈骗', '寻衅滋事', '抢劫', '危险驾驶', '绑架','受贿','遗弃', '合同诈骗', '赌博','故意杀人', '侵犯著作权', '信用卡诈骗', '强奸','交通肇事','非法经营','过失致人死亡']"
   ]
  },
  {
   "cell_type": "code",
   "execution_count": 93,
   "metadata": {},
   "outputs": [],
   "source": [
    "selected_data=all_data[all_data['accusation'].isin([i+'罪' for i in crime_selected])][['accusation','top_5_article','top_5_crime','top_5_definition_and_article']]"
   ]
  },
  {
   "cell_type": "code",
   "execution_count": 94,
   "metadata": {},
   "outputs": [
    {
     "data": {
      "text/html": [
       "<div>\n",
       "<style scoped>\n",
       "    .dataframe tbody tr th:only-of-type {\n",
       "        vertical-align: middle;\n",
       "    }\n",
       "\n",
       "    .dataframe tbody tr th {\n",
       "        vertical-align: top;\n",
       "    }\n",
       "\n",
       "    .dataframe thead th {\n",
       "        text-align: right;\n",
       "    }\n",
       "</style>\n",
       "<table border=\"1\" class=\"dataframe\">\n",
       "  <thead>\n",
       "    <tr style=\"text-align: right;\">\n",
       "      <th></th>\n",
       "      <th>accusation</th>\n",
       "      <th>top_5_article</th>\n",
       "      <th>top_5_crime</th>\n",
       "      <th>top_5_definition_and_article</th>\n",
       "    </tr>\n",
       "  </thead>\n",
       "  <tbody>\n",
       "    <tr>\n",
       "      <th>355</th>\n",
       "      <td>故意伤害罪</td>\n",
       "      <td>[聚众斗殴罪, 故意伤害罪, 寻衅滋事罪, 诬告陷害罪, 过失致人重伤罪]</td>\n",
       "      <td>[聚众斗殴罪, 寻衅滋事罪, 过失致人重伤罪, 诬告陷害罪, 敲诈勒索罪]</td>\n",
       "      <td>[聚众斗殴罪, 寻衅滋事罪, 诬告陷害罪, 单位行贿罪, 故意伤害罪]</td>\n",
       "    </tr>\n",
       "    <tr>\n",
       "      <th>361</th>\n",
       "      <td>故意伤害罪</td>\n",
       "      <td>[寻衅滋事罪, 故意伤害罪, 滥用职权罪, 单位行贿罪, 交通肇事罪]</td>\n",
       "      <td>[寻衅滋事罪, 滥用职权罪, 敲诈勒索罪, 交通肇事罪, 过失致人重伤罪]</td>\n",
       "      <td>[单位行贿罪, 寻衅滋事罪, 故意伤害罪, 敲诈勒索罪, 诬告陷害罪]</td>\n",
       "    </tr>\n",
       "    <tr>\n",
       "      <th>363</th>\n",
       "      <td>故意伤害罪</td>\n",
       "      <td>[寻衅滋事罪, 非法行医罪, 诬告陷害罪, 招摇撞骗罪, 滥用职权罪]</td>\n",
       "      <td>[寻衅滋事罪, 非法处置查封、扣押、冻结的财产罪, 滥用职权罪, 交通肇事罪, 非法行医罪]</td>\n",
       "      <td>[寻衅滋事罪, 招摇撞骗罪, 单位行贿罪, 诬告陷害罪, 非法行医罪]</td>\n",
       "    </tr>\n",
       "    <tr>\n",
       "      <th>364</th>\n",
       "      <td>故意伤害罪</td>\n",
       "      <td>[非法拘禁罪, 寻衅滋事罪, 非法处置查封、扣押、冻结的财产罪, 诬告陷害罪, 帮助犯罪分子...</td>\n",
       "      <td>[非法处置查封、扣押、冻结的财产罪, 寻衅滋事罪, 故意杀人罪, 帮助犯罪分子逃避处罚罪, ...</td>\n",
       "      <td>[非法处置查封、扣押、冻结的财产罪, 寻衅滋事罪, 冒充军人招摇撞骗罪, 诬告陷害罪, 非法...</td>\n",
       "    </tr>\n",
       "    <tr>\n",
       "      <th>368</th>\n",
       "      <td>故意伤害罪</td>\n",
       "      <td>[寻衅滋事罪, 交通肇事罪, 招摇撞骗罪, 聚众斗殴罪, 危险驾驶罪]</td>\n",
       "      <td>[寻衅滋事罪, 交通肇事罪, 聚众斗殴罪, 聚众扰乱公共场所秩序、交通秩序罪, 非法转让、倒...</td>\n",
       "      <td>[寻衅滋事罪, 交通肇事罪, 聚众斗殴罪, 冒充军人招摇撞骗罪, 招摇撞骗罪]</td>\n",
       "    </tr>\n",
       "    <tr>\n",
       "      <th>...</th>\n",
       "      <td>...</td>\n",
       "      <td>...</td>\n",
       "      <td>...</td>\n",
       "      <td>...</td>\n",
       "    </tr>\n",
       "    <tr>\n",
       "      <th>16336</th>\n",
       "      <td>遗弃罪</td>\n",
       "      <td>[寻衅滋事罪, 窝藏、包庇罪, 非法侵入住宅罪, 拒不执行判决、裁定罪, 玩忽职守罪]</td>\n",
       "      <td>[寻衅滋事罪, 窝藏、包庇罪, 非法进行节育手术罪, 非法处置查封、扣押、冻结的财产罪, 非...</td>\n",
       "      <td>[寻衅滋事罪, 非法侵入住宅罪, 窝藏、包庇罪, 拒不执行判决、裁定罪, 单位行贿罪]</td>\n",
       "    </tr>\n",
       "    <tr>\n",
       "      <th>16368</th>\n",
       "      <td>遗弃罪</td>\n",
       "      <td>[诬告陷害罪, 拒不执行判决、裁定罪, 伪证罪, 滥用职权罪, 非法处置查封、扣押、冻结的财产罪]</td>\n",
       "      <td>[拒不执行判决、裁定罪, 诬告陷害罪, 非法处置查封、扣押、冻结的财产罪, 伪证罪, 滥用职权罪]</td>\n",
       "      <td>[诬告陷害罪, 拒不执行判决、裁定罪, 伪证罪, 非法处置查封、扣押、冻结的财产罪, 滥用职权罪]</td>\n",
       "    </tr>\n",
       "    <tr>\n",
       "      <th>16382</th>\n",
       "      <td>绑架罪</td>\n",
       "      <td>[非法持有毒品罪, 聚众扰乱社会秩序罪, 聚众扰乱公共场所秩序、交通秩序罪, 走私、贩卖、运...</td>\n",
       "      <td>[妨害公务罪, 故意杀人罪, 聚众扰乱公共场所秩序、交通秩序罪, 非法种植毒品原植物罪, 走...</td>\n",
       "      <td>[走私、贩卖、运输、制造毒品罪, 故意杀人罪, 非法持有毒品罪, 非法种植毒品原植物罪, 非...</td>\n",
       "    </tr>\n",
       "    <tr>\n",
       "      <th>16536</th>\n",
       "      <td>遗弃罪</td>\n",
       "      <td>[拒不执行判决、裁定罪, 寻衅滋事罪, 拐卖妇女、儿童罪, 窝藏、包庇罪, 诬告陷害罪]</td>\n",
       "      <td>[拒不执行判决、裁定罪, 非法处置查封、扣押、冻结的财产罪, 寻衅滋事罪, 窝藏、包庇罪, ...</td>\n",
       "      <td>[拒不执行判决、裁定罪, 寻衅滋事罪, 诬告陷害罪, 敲诈勒索罪, 窝藏、包庇罪]</td>\n",
       "    </tr>\n",
       "    <tr>\n",
       "      <th>16996</th>\n",
       "      <td>侵犯著作权罪</td>\n",
       "      <td>[销售假冒注册商标的商品罪, 非法出售发票罪, 侵犯著作权罪, 伪造、变造、买卖国家机关公文...</td>\n",
       "      <td>[侵犯著作权罪, 非法处置查封、扣押、冻结的财产罪, 非法捕捞水产品罪, 伪造、变造、买卖国...</td>\n",
       "      <td>[伪造、变造、买卖国家机关公文、证件、印章罪, 销售假冒注册商标的商品罪, 侵犯著作权罪, ...</td>\n",
       "    </tr>\n",
       "  </tbody>\n",
       "</table>\n",
       "<p>3514 rows × 4 columns</p>\n",
       "</div>"
      ],
      "text/plain": [
       "      accusation                                      top_5_article  \\\n",
       "355        故意伤害罪              [聚众斗殴罪, 故意伤害罪, 寻衅滋事罪, 诬告陷害罪, 过失致人重伤罪]   \n",
       "361        故意伤害罪                [寻衅滋事罪, 故意伤害罪, 滥用职权罪, 单位行贿罪, 交通肇事罪]   \n",
       "363        故意伤害罪                [寻衅滋事罪, 非法行医罪, 诬告陷害罪, 招摇撞骗罪, 滥用职权罪]   \n",
       "364        故意伤害罪  [非法拘禁罪, 寻衅滋事罪, 非法处置查封、扣押、冻结的财产罪, 诬告陷害罪, 帮助犯罪分子...   \n",
       "368        故意伤害罪                [寻衅滋事罪, 交通肇事罪, 招摇撞骗罪, 聚众斗殴罪, 危险驾驶罪]   \n",
       "...          ...                                                ...   \n",
       "16336        遗弃罪        [寻衅滋事罪, 窝藏、包庇罪, 非法侵入住宅罪, 拒不执行判决、裁定罪, 玩忽职守罪]   \n",
       "16368        遗弃罪  [诬告陷害罪, 拒不执行判决、裁定罪, 伪证罪, 滥用职权罪, 非法处置查封、扣押、冻结的财产罪]   \n",
       "16382        绑架罪  [非法持有毒品罪, 聚众扰乱社会秩序罪, 聚众扰乱公共场所秩序、交通秩序罪, 走私、贩卖、运...   \n",
       "16536        遗弃罪       [拒不执行判决、裁定罪, 寻衅滋事罪, 拐卖妇女、儿童罪, 窝藏、包庇罪, 诬告陷害罪]   \n",
       "16996     侵犯著作权罪  [销售假冒注册商标的商品罪, 非法出售发票罪, 侵犯著作权罪, 伪造、变造、买卖国家机关公文...   \n",
       "\n",
       "                                             top_5_crime  \\\n",
       "355                [聚众斗殴罪, 寻衅滋事罪, 过失致人重伤罪, 诬告陷害罪, 敲诈勒索罪]   \n",
       "361                [寻衅滋事罪, 滥用职权罪, 敲诈勒索罪, 交通肇事罪, 过失致人重伤罪]   \n",
       "363       [寻衅滋事罪, 非法处置查封、扣押、冻结的财产罪, 滥用职权罪, 交通肇事罪, 非法行医罪]   \n",
       "364    [非法处置查封、扣押、冻结的财产罪, 寻衅滋事罪, 故意杀人罪, 帮助犯罪分子逃避处罚罪, ...   \n",
       "368    [寻衅滋事罪, 交通肇事罪, 聚众斗殴罪, 聚众扰乱公共场所秩序、交通秩序罪, 非法转让、倒...   \n",
       "...                                                  ...   \n",
       "16336  [寻衅滋事罪, 窝藏、包庇罪, 非法进行节育手术罪, 非法处置查封、扣押、冻结的财产罪, 非...   \n",
       "16368  [拒不执行判决、裁定罪, 诬告陷害罪, 非法处置查封、扣押、冻结的财产罪, 伪证罪, 滥用职权罪]   \n",
       "16382  [妨害公务罪, 故意杀人罪, 聚众扰乱公共场所秩序、交通秩序罪, 非法种植毒品原植物罪, 走...   \n",
       "16536  [拒不执行判决、裁定罪, 非法处置查封、扣押、冻结的财产罪, 寻衅滋事罪, 窝藏、包庇罪, ...   \n",
       "16996  [侵犯著作权罪, 非法处置查封、扣押、冻结的财产罪, 非法捕捞水产品罪, 伪造、变造、买卖国...   \n",
       "\n",
       "                            top_5_definition_and_article  \n",
       "355                  [聚众斗殴罪, 寻衅滋事罪, 诬告陷害罪, 单位行贿罪, 故意伤害罪]  \n",
       "361                  [单位行贿罪, 寻衅滋事罪, 故意伤害罪, 敲诈勒索罪, 诬告陷害罪]  \n",
       "363                  [寻衅滋事罪, 招摇撞骗罪, 单位行贿罪, 诬告陷害罪, 非法行医罪]  \n",
       "364    [非法处置查封、扣押、冻结的财产罪, 寻衅滋事罪, 冒充军人招摇撞骗罪, 诬告陷害罪, 非法...  \n",
       "368              [寻衅滋事罪, 交通肇事罪, 聚众斗殴罪, 冒充军人招摇撞骗罪, 招摇撞骗罪]  \n",
       "...                                                  ...  \n",
       "16336        [寻衅滋事罪, 非法侵入住宅罪, 窝藏、包庇罪, 拒不执行判决、裁定罪, 单位行贿罪]  \n",
       "16368  [诬告陷害罪, 拒不执行判决、裁定罪, 伪证罪, 非法处置查封、扣押、冻结的财产罪, 滥用职权罪]  \n",
       "16382  [走私、贩卖、运输、制造毒品罪, 故意杀人罪, 非法持有毒品罪, 非法种植毒品原植物罪, 非...  \n",
       "16536          [拒不执行判决、裁定罪, 寻衅滋事罪, 诬告陷害罪, 敲诈勒索罪, 窝藏、包庇罪]  \n",
       "16996  [伪造、变造、买卖国家机关公文、证件、印章罪, 销售假冒注册商标的商品罪, 侵犯著作权罪, ...  \n",
       "\n",
       "[3514 rows x 4 columns]"
      ]
     },
     "execution_count": 94,
     "metadata": {},
     "output_type": "execute_result"
    }
   ],
   "source": [
    "selected_data"
   ]
  }
 ],
 "metadata": {
  "kernelspec": {
   "display_name": "chatglm",
   "language": "python",
   "name": "python3"
  },
  "language_info": {
   "codemirror_mode": {
    "name": "ipython",
    "version": 3
   },
   "file_extension": ".py",
   "mimetype": "text/x-python",
   "name": "python",
   "nbconvert_exporter": "python",
   "pygments_lexer": "ipython3",
   "version": "3.9.17"
  },
  "orig_nbformat": 4
 },
 "nbformat": 4,
 "nbformat_minor": 2
}
